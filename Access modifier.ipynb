{
 "cells": [
  {
   "cell_type": "markdown",
   "id": "a9d3eaf2",
   "metadata": {},
   "source": [
    "- private(double underscore)->inside the same class\n",
    "- public (no underscore)->can be accessed anywhere\n",
    "- protected (single underscore)->same class and child class"
   ]
  },
  {
   "cell_type": "code",
   "execution_count": 1,
   "id": "bc2f7c64",
   "metadata": {},
   "outputs": [],
   "source": [
    "class Example:\n",
    "    def __init__(self,a,b):\n",
    "        self.a=a\n",
    "        self.b=b\n",
    "    def add(self):\n",
    "        return self._a+self._b\n",
    "    "
   ]
  },
  {
   "cell_type": "markdown",
   "id": "98b4a964",
   "metadata": {},
   "source": [
    "# STATIC AND FINAL KEYWORD"
   ]
  },
  {
   "cell_type": "code",
   "execution_count": null,
   "id": "bcbfa3e5",
   "metadata": {},
   "outputs": [],
   "source": [
    "static->class level(That can be called with class name directly without creating an object)"
   ]
  },
  {
   "cell_type": "code",
   "execution_count": 6,
   "id": "d0164655",
   "metadata": {},
   "outputs": [
    {
     "name": "stdout",
     "output_type": "stream",
     "text": [
      "This is a static method\n"
     ]
    }
   ],
   "source": [
    "class Example:\n",
    "    def static_method(self):\n",
    "        print(\"This is a static method\")\n",
    "#Call the static method directly using the class name\n",
    "ob=Example()\n",
    "ob.static_method()"
   ]
  },
  {
   "cell_type": "code",
   "execution_count": 11,
   "id": "4a11a51f",
   "metadata": {},
   "outputs": [
    {
     "ename": "TypeError",
     "evalue": "Example.m1() missing 1 required positional argument: 'self'",
     "output_type": "error",
     "traceback": [
      "\u001b[1;31m---------------------------------------------------------------------------\u001b[0m",
      "\u001b[1;31mTypeError\u001b[0m                                 Traceback (most recent call last)",
      "Cell \u001b[1;32mIn[11], line 8\u001b[0m\n\u001b[0;32m      6\u001b[0m     \u001b[38;5;28;01mdef\u001b[39;00m \u001b[38;5;21mm3\u001b[39m():\n\u001b[0;32m      7\u001b[0m         \u001b[38;5;28mprint\u001b[39m(\u001b[38;5;124m\"\u001b[39m\u001b[38;5;124mInside m3\u001b[39m\u001b[38;5;124m\"\u001b[39m)\n\u001b[1;32m----> 8\u001b[0m Example\u001b[38;5;241m.\u001b[39mm1()\n\u001b[0;32m      9\u001b[0m Example\u001b[38;5;241m.\u001b[39mm2()\n\u001b[0;32m     10\u001b[0m Example\u001b[38;5;241m.\u001b[39mm3()\n",
      "\u001b[1;31mTypeError\u001b[0m: Example.m1() missing 1 required positional argument: 'self'"
     ]
    }
   ],
   "source": [
    "class Example:\n",
    "    def m1(self):\n",
    "        print(\"Inide m1\")\n",
    "    def m2():\n",
    "        print(\"Inside m2\")\n",
    "    def m3():\n",
    "        print(\"Inside m3\")\n",
    "Example.m1()\n",
    "Example.m2()\n",
    "Example.m3()"
   ]
  },
  {
   "cell_type": "markdown",
   "id": "f97bf595",
   "metadata": {},
   "source": [
    "# Final variables (Constants):\n",
    "    "
   ]
  },
  {
   "cell_type": "code",
   "execution_count": 12,
   "id": "2adf8870",
   "metadata": {},
   "outputs": [
    {
     "name": "stdout",
     "output_type": "stream",
     "text": [
      "100\n",
      "500\n"
     ]
    }
   ],
   "source": [
    "VARIABLE_NAME=100\n",
    "print(VARIABLE_NAME)\n",
    "VARIABLE_NAME=500\n",
    "print(VARIABLE_NAME)"
   ]
  },
  {
   "cell_type": "markdown",
   "id": "48c65aaa",
   "metadata": {},
   "source": [
    "# File Handling\n"
   ]
  },
  {
   "cell_type": "code",
   "execution_count": 13,
   "id": "d85a7f95",
   "metadata": {},
   "outputs": [],
   "source": [
    "#open (\"Filename\",\"mode\")\n",
    "f=open(\"NewFile.txt\",\"x\")\n",
    "f.write(\"Now the file has some content!\")\n",
    "f.close()"
   ]
  },
  {
   "cell_type": "code",
   "execution_count": 16,
   "id": "c5dca392",
   "metadata": {},
   "outputs": [],
   "source": [
    "import os\n",
    "os.chdir(\"C:/Users/Admin/OneDrive/Desktop\")\n"
   ]
  },
  {
   "cell_type": "code",
   "execution_count": 17,
   "id": "0a365e90",
   "metadata": {},
   "outputs": [
    {
     "data": {
      "text/plain": [
       "'C:\\\\Users\\\\Admin\\\\OneDrive\\\\Desktop'"
      ]
     },
     "execution_count": 17,
     "metadata": {},
     "output_type": "execute_result"
    }
   ],
   "source": [
    "pwd"
   ]
  },
  {
   "cell_type": "code",
   "execution_count": 18,
   "id": "2574b420",
   "metadata": {},
   "outputs": [],
   "source": [
    "f=open(\"NewFile.txt\",\"x\")\n",
    "f.write(\"Now the file has some content!\")\n",
    "f.close()"
   ]
  },
  {
   "cell_type": "code",
   "execution_count": 20,
   "id": "c3951a76",
   "metadata": {},
   "outputs": [
    {
     "data": {
      "text/plain": [
       "'Now the file has some content!'"
      ]
     },
     "execution_count": 20,
     "metadata": {},
     "output_type": "execute_result"
    }
   ],
   "source": [
    "f=open(\"NewFile.txt\")\n",
    "f.read()"
   ]
  },
  {
   "cell_type": "code",
   "execution_count": 1,
   "id": "8b6d7815",
   "metadata": {},
   "outputs": [
    {
     "data": {
      "text/plain": [
       "'Now the file has some content!Now the file has some content!'"
      ]
     },
     "execution_count": 1,
     "metadata": {},
     "output_type": "execute_result"
    }
   ],
   "source": [
    "f=open(\"NewFile.txt\",\"a\")\n",
    "f.write(\"Now the file has some content!\")\n",
    "f.close()\n",
    "f=open(\"NewFile.txt\")\n",
    "f.read()"
   ]
  },
  {
   "cell_type": "code",
   "execution_count": 2,
   "id": "8f50bb3e",
   "metadata": {},
   "outputs": [
    {
     "data": {
      "text/plain": [
       "'Now the file has some content!'"
      ]
     },
     "execution_count": 2,
     "metadata": {},
     "output_type": "execute_result"
    }
   ],
   "source": [
    "f=open(\"NewFile.txt\",\"w\")\n",
    "f.write(\"Now the file has some content!\",)\n",
    "f.close()\n",
    "f=open(\"NewFile.txt\")\n",
    "f.read()"
   ]
  },
  {
   "cell_type": "code",
   "execution_count": 10,
   "id": "b825bf54",
   "metadata": {},
   "outputs": [
    {
     "ename": "PermissionError",
     "evalue": "[WinError 32] The process cannot access the file because it is being used by another process: 'NewFile.txt'",
     "output_type": "error",
     "traceback": [
      "\u001b[1;31m---------------------------------------------------------------------------\u001b[0m",
      "\u001b[1;31mPermissionError\u001b[0m                           Traceback (most recent call last)",
      "Cell \u001b[1;32mIn[10], line 2\u001b[0m\n\u001b[0;32m      1\u001b[0m \u001b[38;5;28;01mimport\u001b[39;00m \u001b[38;5;21;01mos\u001b[39;00m\n\u001b[1;32m----> 2\u001b[0m os\u001b[38;5;241m.\u001b[39mremove(\u001b[38;5;124m\"\u001b[39m\u001b[38;5;124mNewFile.txt\u001b[39m\u001b[38;5;124m\"\u001b[39m)\n",
      "\u001b[1;31mPermissionError\u001b[0m: [WinError 32] The process cannot access the file because it is being used by another process: 'NewFile.txt'"
     ]
    }
   ],
   "source": [
    "import os\n",
    "os.remove(\"NewFile.txt\")"
   ]
  },
  {
   "cell_type": "code",
   "execution_count": null,
   "id": "f30acf83",
   "metadata": {},
   "outputs": [],
   "source": []
  }
 ],
 "metadata": {
  "kernelspec": {
   "display_name": "Python 3 (ipykernel)",
   "language": "python",
   "name": "python3"
  },
  "language_info": {
   "codemirror_mode": {
    "name": "ipython",
    "version": 3
   },
   "file_extension": ".py",
   "mimetype": "text/x-python",
   "name": "python",
   "nbconvert_exporter": "python",
   "pygments_lexer": "ipython3",
   "version": "3.11.5"
  }
 },
 "nbformat": 4,
 "nbformat_minor": 5
}
