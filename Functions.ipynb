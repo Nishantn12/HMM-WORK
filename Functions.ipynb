{
 "cells": [
  {
   "cell_type": "markdown",
   "id": "8c175628",
   "metadata": {},
   "source": [
    "# FUNCTIONS"
   ]
  },
  {
   "cell_type": "markdown",
   "id": "e1188926",
   "metadata": {},
   "source": [
    "UTILITIES OF FUNCTION\n",
    "\n",
    "1 Debugging \n",
    "\n",
    "2 Separation of tasks\n",
    "\n",
    "3 Reusability"
   ]
  },
  {
   "cell_type": "code",
   "execution_count": 3,
   "id": "755c5411",
   "metadata": {},
   "outputs": [],
   "source": [
    "def first_function():\n",
    "    print(\"This is my first function in Python\")"
   ]
  },
  {
   "cell_type": "markdown",
   "id": "40a59cc1",
   "metadata": {},
   "source": [
    "    ##Syntax\n",
    "    def function_name():\n",
    "        #Statements\n",
    "    "
   ]
  },
  {
   "cell_type": "code",
   "execution_count": 4,
   "id": "18f235d8",
   "metadata": {},
   "outputs": [
    {
     "name": "stdout",
     "output_type": "stream",
     "text": [
      "This is my first function in Python\n"
     ]
    }
   ],
   "source": [
    "first_function()"
   ]
  },
  {
   "cell_type": "code",
   "execution_count": 6,
   "id": "2fe43cb1",
   "metadata": {},
   "outputs": [
    {
     "name": "stdout",
     "output_type": "stream",
     "text": [
      "Enter usernameKHUSHI\n",
      "GOOD MORNING KHUSHI\n"
     ]
    }
   ],
   "source": [
    "#WAP to create a function greet_user.print good morning user by using function\n",
    "def greet_user():\n",
    "    username=input(\"Enter username\")\n",
    "    print(\"GOOD MORNING\",username)\n",
    "greet_user()    "
   ]
  },
  {
   "cell_type": "code",
   "execution_count": 7,
   "id": "9cec48e9",
   "metadata": {},
   "outputs": [
    {
     "name": "stdout",
     "output_type": "stream",
     "text": [
      "Enter a:15\n",
      "Enter b:3\n",
      "SUM: 18\n",
      "SUBTRACT: 12\n",
      "MULTIPLY: 45\n",
      "DIVISION: 5.0\n"
     ]
    }
   ],
   "source": [
    "def add(a,b):\n",
    "   print(\"SUM:\",a+b)\n",
    "def sub(a,b):\n",
    "    print(\"SUBTRACT:\",a-b)\n",
    "def multiply(a,b):\n",
    "    print(\"MULTIPLY:\",a*b)\n",
    "def div(a,b):\n",
    "    print(\"DIVISION:\",a/b)\n",
    "a=int(input(\"Enter a:\"))\n",
    "b=int(input(\"Enter b:\"))\n",
    "add(a,b)\n",
    "sub(a,b)\n",
    "multiply(a,b)\n",
    "div(a,b)\n"
   ]
  },
  {
   "cell_type": "code",
   "execution_count": 10,
   "id": "3479a5af",
   "metadata": {},
   "outputs": [
    {
     "data": {
      "text/plain": [
       "('The sum of nos.:', 9)"
      ]
     },
     "execution_count": 10,
     "metadata": {},
     "output_type": "execute_result"
    }
   ],
   "source": [
    "def add(n1,n2,n3):\n",
    "    output=n1+n2+n3\n",
    "    retur1]]n(\"The sum of nos.:\",output)\n",
    "add(2,3,4)    "
   ]
  },
  {
   "cell_type": "code",
   "execution_count": 12,
   "id": "b008bbc7",
   "metadata": {},
   "outputs": [
    {
     "name": "stdout",
     "output_type": "stream",
     "text": [
      "Enter ur name:Khushi Dua\n",
      "Enter systemid:2023339290\n",
      "Enter University Name:Sharda University\n",
      "===========YOUR DETAILS==================\n",
      "Name: Khushi Dua\n",
      "Systemid: 2023339290\n",
      "University name: Sharda University\n",
      "==========================================\n"
     ]
    }
   ],
   "source": [
    "#WAP function my_info.Use this function to print ur name,systemid\n",
    "def my_info(name,systemid,uniname):\n",
    "    print(\"===========YOUR DETAILS==================\")\n",
    "    print(\"Name:\",name)\n",
    "    print(\"Systemid:\",systemid)\n",
    "    print(\"University name:\",uniname)\n",
    "    print(\"==========================================\")\n",
    "name=input(\"Enter ur name:\")\n",
    "systemid=int(input(\"Enter systemid:\"))\n",
    "uniname=input(\"Enter University Name:\")\n",
    "my_info(name,systemid,uniname)"
   ]
  },
  {
   "cell_type": "code",
   "execution_count": 13,
   "id": "9acdf3e6",
   "metadata": {},
   "outputs": [
    {
     "name": "stdout",
     "output_type": "stream",
     "text": [
      "3 4 5\n"
     ]
    }
   ],
   "source": [
    "def my_fun(a=3,b=4,c=5):\n",
    "    print(a,b,c)\n",
    "my_fun()"
   ]
  },
  {
   "cell_type": "code",
   "execution_count": 17,
   "id": "087999b0",
   "metadata": {},
   "outputs": [
    {
     "name": "stdout",
     "output_type": "stream",
     "text": [
      "Enter a no. to find factorial:5\n",
      "The factorial of  5 is 120\n"
     ]
    }
   ],
   "source": [
    "#WAP a function named fact to calculate factorial of no\n",
    "def fact(num):\n",
    "    res=1\n",
    "    for i in range(1,num+1):\n",
    "        res*=i\n",
    "    print(\"The factorial of \",num,\"is\",res)    \n",
    "num=int(input(\"Enter a no. to find factorial:\"))   \n",
    "fact(num)"
   ]
  },
  {
   "cell_type": "code",
   "execution_count": null,
   "id": "280ccb32",
   "metadata": {},
   "outputs": [],
   "source": []
  }
 ],
 "metadata": {
  "kernelspec": {
   "display_name": "Python 3 (ipykernel)",
   "language": "python",
   "name": "python3"
  },
  "language_info": {
   "codemirror_mode": {
    "name": "ipython",
    "version": 3
   },
   "file_extension": ".py",
   "mimetype": "text/x-python",
   "name": "python",
   "nbconvert_exporter": "python",
   "pygments_lexer": "ipython3",
   "version": "3.11.5"
  }
 },
 "nbformat": 4,
 "nbformat_minor": 5
}
