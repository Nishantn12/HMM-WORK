{
 "cells": [
  {
   "cell_type": "markdown",
   "id": "9e506ccf",
   "metadata": {},
   "source": [
    "# Break and continue"
   ]
  },
  {
   "cell_type": "markdown",
   "id": "c77cc0ee",
   "metadata": {},
   "source": [
    "Break is used to terminate the loop.\n",
    "\n",
    "\n",
    "\n",
    "\n",
    "\n",
    "Continue is used to skip the current iteration of loop.\n"
   ]
  },
  {
   "cell_type": "code",
   "execution_count": 1,
   "id": "2576a6a2",
   "metadata": {},
   "outputs": [
    {
     "name": "stdout",
     "output_type": "stream",
     "text": [
      "1\n",
      "2\n",
      "3\n",
      "4\n",
      "5\n",
      "6\n",
      "7\n"
     ]
    }
   ],
   "source": [
    "for i in range(1,8):\n",
    "    print(i)\n",
    "    if i==5:\n",
    "        continue"
   ]
  },
  {
   "cell_type": "markdown",
   "id": "658e2175",
   "metadata": {},
   "source": [
    "1 is considered True \n",
    "\n",
    "0 is considered False\n",
    "\n",
    "Any integer whether positive or negative is used, integer is considered positive"
   ]
  },
  {
   "cell_type": "code",
   "execution_count": 4,
   "id": "5cc79a0a",
   "metadata": {},
   "outputs": [
    {
     "name": "stdout",
     "output_type": "stream",
     "text": [
      "else\n"
     ]
    }
   ],
   "source": [
    "if (0): \n",
    "    print(\"if\")\n",
    "else:\n",
    "    print(\"else\")"
   ]
  },
  {
   "cell_type": "code",
   "execution_count": 3,
   "id": "8e4d290e",
   "metadata": {},
   "outputs": [
    {
     "name": "stdout",
     "output_type": "stream",
     "text": [
      "if\n"
     ]
    }
   ],
   "source": [
    "if (1):\n",
    "    print(\"if\")\n",
    "else:\n",
    "    print(\"else\")"
   ]
  },
  {
   "cell_type": "code",
   "execution_count": 1,
   "id": "8b2dc6ca",
   "metadata": {},
   "outputs": [
    {
     "name": "stdout",
     "output_type": "stream",
     "text": [
      "if\n"
     ]
    }
   ],
   "source": [
    "while(1):\n",
    "    print(\"if\")\n",
    "    break\n",
    "else:\n",
    "    print(\"else\")  \n"
   ]
  },
  {
   "cell_type": "markdown",
   "id": "03f7cb26",
   "metadata": {},
   "source": [
    "# Lists\n",
    "\n",
    "\n",
    "\n"
   ]
  },
  {
   "cell_type": "code",
   "execution_count": 4,
   "id": "1a9a5618",
   "metadata": {},
   "outputs": [
    {
     "name": "stdout",
     "output_type": "stream",
     "text": [
      "78.89\n"
     ]
    }
   ],
   "source": [
    "list_marks=[45,56,58,78,85,\"Abc\",78.89]\n",
    "print(list_marks[-1])"
   ]
  },
  {
   "cell_type": "code",
   "execution_count": 5,
   "id": "65d676c5",
   "metadata": {},
   "outputs": [
    {
     "name": "stdout",
     "output_type": "stream",
     "text": [
      "10\n",
      "9\n",
      "8\n",
      "7\n"
     ]
    }
   ],
   "source": [
    "List1=[1,2,3,4,5,6,7,8,9,10]\n",
    "for i in range(-1,-5,-1):\n",
    "    print(List1[i])"
   ]
  },
  {
   "cell_type": "code",
   "execution_count": 7,
   "id": "62a49596",
   "metadata": {},
   "outputs": [
    {
     "data": {
      "text/plain": [
       "[10, 9, 8, 7]"
      ]
     },
     "execution_count": 7,
     "metadata": {},
     "output_type": "execute_result"
    }
   ],
   "source": [
    "List1=[1,2,3,4,5,6,7,8,9,10]\n",
    "List1[-1:-5:-1]"
   ]
  },
  {
   "cell_type": "code",
   "execution_count": 9,
   "id": "5804d2db",
   "metadata": {},
   "outputs": [
    {
     "data": {
      "text/plain": [
       "[4, 5, 6]"
      ]
     },
     "execution_count": 9,
     "metadata": {},
     "output_type": "execute_result"
    }
   ],
   "source": [
    "List1=[1,2,3,4,5,6,7,8,9,10]\n",
    "List1[3:6:]"
   ]
  },
  {
   "cell_type": "code",
   "execution_count": 20,
   "id": "f7d84e9d",
   "metadata": {},
   "outputs": [
    {
     "name": "stdout",
     "output_type": "stream",
     "text": [
      "[12, 14, 16, 18, 20, 22, 24, 26, 28, 30]\n"
     ]
    }
   ],
   "source": [
    "List1=[1,2,3,4,5,6,7,8,9,10]\n",
    "List2=[11,12,13,14,15,16,17,18,19,20]\n",
    "List3=[0,0,0,0,0,0,0,0,0,0]\n",
    "for i in range(10):\n",
    "   List3[i]+= List1[i]+List2[i]\n",
    "print(List3)    "
   ]
  },
  {
   "cell_type": "code",
   "execution_count": 22,
   "id": "5e7bb66e",
   "metadata": {},
   "outputs": [
    {
     "name": "stdout",
     "output_type": "stream",
     "text": [
      "[1, 2, 3, 1, 2, 3, 1, 2, 3, 1, 2, 3, 1, 2, 3, 1, 2, 3, 1, 2, 3, 1, 2, 3, 1, 2, 3, 1, 2, 3]\n"
     ]
    }
   ],
   "source": [
    "list1=[1,2,3]\n",
    "lis2=list1*10\n",
    "print(lis2)"
   ]
  },
  {
   "cell_type": "markdown",
   "id": "c02f39e2",
   "metadata": {},
   "source": [
    "Iterate a list in Python"
   ]
  },
  {
   "cell_type": "code",
   "execution_count": 24,
   "id": "085b3e73",
   "metadata": {},
   "outputs": [
    {
     "name": "stdout",
     "output_type": "stream",
     "text": [
      "34\n",
      "67\n",
      "89\n",
      "67\n",
      "56\n"
     ]
    }
   ],
   "source": [
    "list1=[34,67,89,67,56]\n",
    "for i in range(0,5):\n",
    "    print(list1[i])"
   ]
  },
  {
   "cell_type": "code",
   "execution_count": 25,
   "id": "54c27c8b",
   "metadata": {},
   "outputs": [],
   "source": [
    "#Write a program to create a list which consists of positive and negative nos. in list.Print pos. nos."
   ]
  },
  {
   "cell_type": "code",
   "execution_count": 26,
   "id": "42c594da",
   "metadata": {},
   "outputs": [
    {
     "name": "stdout",
     "output_type": "stream",
     "text": [
      "2\n",
      "4\n",
      "6\n",
      "7\n",
      "8\n",
      "10\n"
     ]
    }
   ],
   "source": [
    "list=[2,4,6,7,8,10,-10,-9,-9,-5,-2]\n",
    "for i in list:\n",
    "    if i>0:\n",
    "        print(i)"
   ]
  },
  {
   "cell_type": "code",
   "execution_count": 28,
   "id": "0159e139",
   "metadata": {},
   "outputs": [
    {
     "name": "stdout",
     "output_type": "stream",
     "text": [
      "-12\n"
     ]
    }
   ],
   "source": [
    "list=[2,3,4,5,6,7,-2,-4,-6]\n",
    "sum=0\n",
    "for i in list:\n",
    "    if i<0:\n",
    "        sum+=i\n",
    "        \n",
    "print(sum)        \n",
    "        \n",
    "        "
   ]
  },
  {
   "cell_type": "code",
   "execution_count": 1,
   "id": "252dd0e7",
   "metadata": {},
   "outputs": [
    {
     "name": "stdout",
     "output_type": "stream",
     "text": [
      "[3, 8]\n"
     ]
    }
   ],
   "source": [
    "mylist=[1,3,5,8,9,12]\n",
    "print(mylist[1:4:2])"
   ]
  },
  {
   "cell_type": "code",
   "execution_count": 2,
   "id": "99f5b0c9",
   "metadata": {},
   "outputs": [
    {
     "data": {
      "text/plain": [
       "[8, 7, 6, 5, 4, 3, 1]"
      ]
     },
     "execution_count": 2,
     "metadata": {},
     "output_type": "execute_result"
    }
   ],
   "source": [
    "mylist=[1,3,4,5,6,7,8]\n",
    "mylist[::-1]"
   ]
  },
  {
   "cell_type": "code",
   "execution_count": 7,
   "id": "efbb210f",
   "metadata": {},
   "outputs": [
    {
     "name": "stdout",
     "output_type": "stream",
     "text": [
      "7\n",
      "6\n",
      "5\n",
      "4\n",
      "3\n",
      "2\n",
      "1\n"
     ]
    }
   ],
   "source": [
    "mylist=[1,2,3,4,5,6,7]\n",
    "for i in mylist:\n",
    "    print(mylist[-i])"
   ]
  },
  {
   "cell_type": "code",
   "execution_count": 24,
   "id": "4c4e4ee7",
   "metadata": {},
   "outputs": [
    {
     "name": "stdout",
     "output_type": "stream",
     "text": [
      "2\n",
      "4\n"
     ]
    }
   ],
   "source": [
    "mylist=[1,2,3,2]\n",
    "\n",
    "print(mylist.count(2))\n",
    "print(len(mylist))\n"
   ]
  },
  {
   "cell_type": "code",
   "execution_count": 25,
   "id": "f0a2b690",
   "metadata": {},
   "outputs": [
    {
     "name": "stdout",
     "output_type": "stream",
     "text": [
      "6\n"
     ]
    }
   ],
   "source": [
    "mylist=[1,2,3]\n",
    "sum=0\n",
    "for i in mylist:\n",
    "    sum+=i\n",
    "print(sum)    "
   ]
  },
  {
   "cell_type": "markdown",
   "id": "2e59e1a3",
   "metadata": {},
   "source": [
    "Modifying list"
   ]
  },
  {
   "cell_type": "code",
   "execution_count": 6,
   "id": "bb396130",
   "metadata": {},
   "outputs": [
    {
     "name": "stdout",
     "output_type": "stream",
     "text": [
      "[1, 2, 'and', 23, 4, 'u', 56]\n"
     ]
    }
   ],
   "source": [
    "mylist=[1,2,\"and\",23,4,\"u\"]\n",
    "mylist.append(56)\n",
    "print(mylist)        "
   ]
  },
  {
   "cell_type": "code",
   "execution_count": 7,
   "id": "393aba75",
   "metadata": {},
   "outputs": [
    {
     "data": {
      "text/plain": [
       "56"
      ]
     },
     "execution_count": 7,
     "metadata": {},
     "output_type": "execute_result"
    }
   ],
   "source": [
    "mylist.pop(6)"
   ]
  },
  {
   "cell_type": "code",
   "execution_count": 9,
   "id": "98e548e1",
   "metadata": {},
   "outputs": [],
   "source": [
    "mylist.remove(\"u\")"
   ]
  },
  {
   "cell_type": "code",
   "execution_count": 16,
   "id": "09325edf",
   "metadata": {},
   "outputs": [],
   "source": [
    "mylist.insert(2,6)#list_nm.insert(Index,Element_to_add)"
   ]
  },
  {
   "cell_type": "code",
   "execution_count": 36,
   "id": "44fa018d",
   "metadata": {},
   "outputs": [
    {
     "data": {
      "text/plain": [
       "[2, 4, 6, 1, 2, 3]"
      ]
     },
     "execution_count": 36,
     "metadata": {},
     "output_type": "execute_result"
    }
   ],
   "source": [
    "list1=[2,4,6]\n",
    "list1.extend([1,2,3])\n",
    "list1"
   ]
  },
  {
   "cell_type": "code",
   "execution_count": 38,
   "id": "eb690bb8",
   "metadata": {},
   "outputs": [
    {
     "data": {
      "text/plain": [
       "2"
      ]
     },
     "execution_count": 38,
     "metadata": {},
     "output_type": "execute_result"
    }
   ],
   "source": [
    "list1.count(2)"
   ]
  },
  {
   "cell_type": "code",
   "execution_count": 39,
   "id": "2d8f3f18",
   "metadata": {},
   "outputs": [
    {
     "data": {
      "text/plain": [
       "[2, 4, 6, 1, 2, 3, [1, 2, 3]]"
      ]
     },
     "execution_count": 39,
     "metadata": {},
     "output_type": "execute_result"
    }
   ],
   "source": [
    "list1.append([1,2,3])\n",
    "list1"
   ]
  },
  {
   "cell_type": "code",
   "execution_count": 40,
   "id": "3e6b1d2e",
   "metadata": {},
   "outputs": [],
   "source": [
    "#WAP to swap the first and last element in the list"
   ]
  },
  {
   "cell_type": "code",
   "execution_count": 43,
   "id": "33dfb2b8",
   "metadata": {},
   "outputs": [
    {
     "data": {
      "text/plain": [
       "[7, 2, 3, 4, 5, 6, 1]"
      ]
     },
     "execution_count": 43,
     "metadata": {},
     "output_type": "execute_result"
    }
   ],
   "source": [
    "list2=[1,2,3,4,5,6,7]\n",
    "t=list2[6]\n",
    "list2[6]=list2[0]\n",
    "list2[0]=t\n",
    "list2"
   ]
  },
  {
   "cell_type": "code",
   "execution_count": 45,
   "id": "5df49ce8",
   "metadata": {},
   "outputs": [
    {
     "data": {
      "text/plain": [
       "[7, 2, 3, 4, 5, 6, 1]"
      ]
     },
     "execution_count": 45,
     "metadata": {},
     "output_type": "execute_result"
    }
   ],
   "source": [
    "list2=[1,2,3,4,5,6,7]\n",
    "t=list2[len(list2)-1]\n",
    "list2[len(list2)-1]=list2[0]\n",
    "list2[0]=t\n",
    "list2"
   ]
  },
  {
   "cell_type": "code",
   "execution_count": 48,
   "id": "4f53d782",
   "metadata": {},
   "outputs": [
    {
     "name": "stdout",
     "output_type": "stream",
     "text": [
      "[1, 2, 'ABC', 5, 7] [1, 2, 'ABC', 5, 7]\n"
     ]
    }
   ],
   "source": [
    "mylist=[1,2,3,5,7]\n",
    "copylist=mylist\n",
    "copylist[2]=\"ABC\"\n",
    "print(copylist\n",
    ", mylist)"
   ]
  },
  {
   "cell_type": "markdown",
   "id": "04d6a8c4",
   "metadata": {},
   "source": [
    "Nested List"
   ]
  },
  {
   "cell_type": "code",
   "execution_count": 57,
   "id": "7009d1b1",
   "metadata": {},
   "outputs": [
    {
     "data": {
      "text/plain": [
       "5"
      ]
     },
     "execution_count": 57,
     "metadata": {},
     "output_type": "execute_result"
    }
   ],
   "source": [
    "mylist=[6,4,[6,7,[5]]]\n",
    "mylist[2][2][0]"
   ]
  },
  {
   "cell_type": "code",
   "execution_count": 58,
   "id": "c87a929d",
   "metadata": {},
   "outputs": [],
   "source": [
    "#Wap to flatten a list"
   ]
  },
  {
   "cell_type": "code",
   "execution_count": 80,
   "id": "07ac2140",
   "metadata": {},
   "outputs": [
    {
     "data": {
      "text/plain": [
       "[1, 2, 3, 4, 5, 6, 7]"
      ]
     },
     "execution_count": 80,
     "metadata": {},
     "output_type": "execute_result"
    }
   ],
   "source": [
    "list2=[[1],[2,3],[4,5,6,7]]\n",
    "list3=[]\n",
    "for i in list2:\n",
    "    for ii in i:\n",
    "        list3.append(ii)\n",
    "list3"
   ]
  },
  {
   "cell_type": "markdown",
   "id": "3b072d80",
   "metadata": {},
   "source": [
    "1. WAP to print all prime nos. inside list.\n",
    "2. WAP the sum of all odd nos. inside list.\n",
    "3. Use of copy function in list."
   ]
  },
  {
   "cell_type": "code",
   "execution_count": 91,
   "id": "0423dd09",
   "metadata": {},
   "outputs": [
    {
     "name": "stdout",
     "output_type": "stream",
     "text": [
      "3\n"
     ]
    }
   ],
   "source": [
    "list1=[1,2,3,4,5,6,7]\n",
    "count=0\n",
    "for i in list1:\n",
    "    for j in range(1,i):\n",
    "        if i%j==0:\n",
    "            count+=1\n",
    "    if count==2:\n",
    "            print(i)"
   ]
  },
  {
   "cell_type": "code",
   "execution_count": 84,
   "id": "2a21ac8e",
   "metadata": {},
   "outputs": [
    {
     "data": {
      "text/plain": [
       "12"
      ]
     },
     "execution_count": 84,
     "metadata": {},
     "output_type": "execute_result"
    }
   ],
   "source": [
    "list1=[1,2,3,4,5,6,7]\n",
    "sum=0\n",
    "for i in list1:\n",
    "    if i%2==0:\n",
    "        sum+=i\n",
    "sum        "
   ]
  },
  {
   "cell_type": "code",
   "execution_count": null,
   "id": "db4205be",
   "metadata": {},
   "outputs": [],
   "source": []
  }
 ],
 "metadata": {
  "kernelspec": {
   "display_name": "Python 3 (ipykernel)",
   "language": "python",
   "name": "python3"
  },
  "language_info": {
   "codemirror_mode": {
    "name": "ipython",
    "version": 3
   },
   "file_extension": ".py",
   "mimetype": "text/x-python",
   "name": "python",
   "nbconvert_exporter": "python",
   "pygments_lexer": "ipython3",
   "version": "3.11.5"
  }
 },
 "nbformat": 4,
 "nbformat_minor": 5
}
