{
 "cells": [
  {
   "cell_type": "code",
   "execution_count": 1,
   "id": "87d0cc53",
   "metadata": {},
   "outputs": [
    {
     "data": {
      "text/plain": [
       "['False',\n",
       " 'None',\n",
       " 'True',\n",
       " 'and',\n",
       " 'as',\n",
       " 'assert',\n",
       " 'async',\n",
       " 'await',\n",
       " 'break',\n",
       " 'class',\n",
       " 'continue',\n",
       " 'def',\n",
       " 'del',\n",
       " 'elif',\n",
       " 'else',\n",
       " 'except',\n",
       " 'finally',\n",
       " 'for',\n",
       " 'from',\n",
       " 'global',\n",
       " 'if',\n",
       " 'import',\n",
       " 'in',\n",
       " 'is',\n",
       " 'lambda',\n",
       " 'nonlocal',\n",
       " 'not',\n",
       " 'or',\n",
       " 'pass',\n",
       " 'raise',\n",
       " 'return',\n",
       " 'try',\n",
       " 'while',\n",
       " 'with',\n",
       " 'yield']"
      ]
     },
     "execution_count": 1,
     "metadata": {},
     "output_type": "execute_result"
    }
   ],
   "source": [
    "import keyword\n",
    "keyword.kwlist\n"
   ]
  },
  {
   "cell_type": "code",
   "execution_count": 2,
   "id": "2096dd15",
   "metadata": {},
   "outputs": [
    {
     "name": "stdout",
     "output_type": "stream",
     "text": [
      "4\n"
     ]
    },
    {
     "data": {
      "text/plain": [
       "10"
      ]
     },
     "execution_count": 2,
     "metadata": {},
     "output_type": "execute_result"
    }
   ],
   "source": [
    "print(2+2)\n",
    "3+7"
   ]
  },
  {
   "cell_type": "code",
   "execution_count": 3,
   "id": "9b125c21",
   "metadata": {},
   "outputs": [
    {
     "name": "stdout",
     "output_type": "stream",
     "text": [
      "4\n"
     ]
    }
   ],
   "source": [
    "print(2+2)"
   ]
  },
  {
   "cell_type": "code",
   "execution_count": 4,
   "id": "c936305d",
   "metadata": {},
   "outputs": [
    {
     "data": {
      "text/plain": [
       "'apple'"
      ]
     },
     "execution_count": 4,
     "metadata": {},
     "output_type": "execute_result"
    }
   ],
   "source": [
    "'apple'"
   ]
  },
  {
   "cell_type": "code",
   "execution_count": 5,
   "id": "5a1ea035",
   "metadata": {},
   "outputs": [
    {
     "name": "stdout",
     "output_type": "stream",
     "text": [
      "apple\n"
     ]
    }
   ],
   "source": [
    "print('apple')"
   ]
  },
  {
   "cell_type": "code",
   "execution_count": 6,
   "id": "a24932d5",
   "metadata": {},
   "outputs": [
    {
     "name": "stdout",
     "output_type": "stream",
     "text": [
      "4\n"
     ]
    },
    {
     "data": {
      "text/plain": [
       "'apple'"
      ]
     },
     "execution_count": 6,
     "metadata": {},
     "output_type": "execute_result"
    }
   ],
   "source": [
    "print(2+2)\n",
    "'apple'"
   ]
  },
  {
   "cell_type": "code",
   "execution_count": 7,
   "id": "c159344b",
   "metadata": {},
   "outputs": [
    {
     "name": "stdout",
     "output_type": "stream",
     "text": [
      "4\n"
     ]
    }
   ],
   "source": [
    "print(2+2)"
   ]
  },
  {
   "cell_type": "code",
   "execution_count": 8,
   "id": "dbc434be",
   "metadata": {},
   "outputs": [
    {
     "data": {
      "text/plain": [
       "'apple'"
      ]
     },
     "execution_count": 8,
     "metadata": {},
     "output_type": "execute_result"
    }
   ],
   "source": [
    "'apple'"
   ]
  },
  {
   "cell_type": "code",
   "execution_count": 9,
   "id": "8a000b98",
   "metadata": {},
   "outputs": [
    {
     "name": "stdout",
     "output_type": "stream",
     "text": [
      "4\n",
      "8.33\n"
     ]
    }
   ],
   "source": [
    "print(2+2)\n",
    "print(3+5.33)"
   ]
  },
  {
   "cell_type": "code",
   "execution_count": 10,
   "id": "6a285acd",
   "metadata": {},
   "outputs": [
    {
     "name": "stdout",
     "output_type": "stream",
     "text": [
      "hello world 4 this is python\n",
      "hello world*4*this is python\n",
      "hello world4this is python\n",
      "hello world 4 this is python\n"
     ]
    }
   ],
   "source": [
    "# Use of 'sep' parameter\n",
    "print('hello world',2+2,'this is python')\n",
    "print('hello world',2+2,'this is python',sep='*')\n",
    "print('hello world',2+2,'this is python',sep='')\n",
    "print('hello world',2+2,'this is python',sep=' ')"
   ]
  },
  {
   "cell_type": "code",
   "execution_count": 11,
   "id": "a81ed65d",
   "metadata": {},
   "outputs": [
    {
     "name": "stdout",
     "output_type": "stream",
     "text": [
      "hello world 4 this is python\n",
      "Apple\n",
      "\n",
      "\n",
      "hello world 4 this is python*Apple\n",
      "\n",
      "\n",
      "hello world 4 this is python\n",
      "Apple\n"
     ]
    }
   ],
   "source": [
    "# Use of 'end' parameter\n",
    "print('hello world',2+2,'this is python')\n",
    "print('Apple')\n",
    "print('\\n')\n",
    "print('hello world',2+2,'this is python',end='*')\n",
    "print('Apple')\n",
    "print('\\n')\n",
    "print('hello world',2+2,'this is python',end='\\n')\n",
    "print('Apple')"
   ]
  },
  {
   "cell_type": "code",
   "execution_count": 12,
   "id": "be4ee04a",
   "metadata": {},
   "outputs": [
    {
     "name": "stdout",
     "output_type": "stream",
     "text": [
      "Khushi_Dua\n",
      "Khushi_Dua\n"
     ]
    }
   ],
   "source": [
    "#Print your full name with an underscore between your first and last name using 'sep'\n",
    "#parameter\n",
    "print(\"Khushi\",\"Dua\",sep=\"_\")\n",
    "\n",
    "#Print your full name with an underscore between your first and last name using 'end'\n",
    "#parameter\n",
    "print(\"Khushi\",end=\"_\")\n",
    "print(\"Dua\")"
   ]
  },
  {
   "cell_type": "code",
   "execution_count": 13,
   "id": "56109411",
   "metadata": {},
   "outputs": [
    {
     "name": "stdout",
     "output_type": "stream",
     "text": [
      "<class 'int'>\n",
      "<class 'float'>\n",
      "<class 'complex'>\n"
     ]
    }
   ],
   "source": [
    "# 4.1 Numeric data types: int, float, complex\n",
    "a = 7\n",
    "print(type(a))\n",
    "b=2.356\n",
    "print(type(b))\n",
    "c= 3.908J\n",
    "print(type(c))"
   ]
  },
  {
   "cell_type": "code",
   "execution_count": 14,
   "id": "e77d5495",
   "metadata": {},
   "outputs": [
    {
     "name": "stdout",
     "output_type": "stream",
     "text": [
      "<class 'str'>\n"
     ]
    }
   ],
   "source": [
    "### 4.2 String data types: str\n",
    "s1= '7'\n",
    "print(type(s1))"
   ]
  },
  {
   "cell_type": "code",
   "execution_count": 15,
   "id": "a6ffb10c",
   "metadata": {},
   "outputs": [
    {
     "name": "stdout",
     "output_type": "stream",
     "text": [
      "[1, 2, 3, 'apple', 6]\n",
      "<class 'list'>\n",
      "\n",
      "\n",
      "(1, 2, 3, 'apple', 6)\n",
      "<class 'tuple'>\n",
      "\n",
      "\n",
      "range(0, 5)\n",
      "<class 'range'>\n"
     ]
    }
   ],
   "source": [
    "# 4.3 Sequence types: list, tuple, range\n",
    "l1= [1,2,3,'apple',6]\n",
    "print(l1)\n",
    "print(type(l1))\n",
    "print('\\n')\n",
    "t1= (1,2,3,'apple',6)\n",
    "print(t1)\n",
    "print(type(t1))\n",
    "print('\\n')\n",
    "r1= range(0,5)\n",
    "print(r1)\n",
    "print(type(r1))"
   ]
  },
  {
   "cell_type": "code",
   "execution_count": 16,
   "id": "73852cad",
   "metadata": {},
   "outputs": [
    {
     "name": "stdout",
     "output_type": "stream",
     "text": [
      "{'a': [1, 2, 3, 4], 'b': [9, 8, 7], 'c': 'Apple'}\n",
      "<class 'dict'>\n"
     ]
    }
   ],
   "source": [
    "### 4.4 Mapping data type: dict\n",
    "d1= {'a':[1,2,3,4],'b': [9,8,7],'c':'Apple'}\n",
    "print(d1)\n",
    "print(type(d1))"
   ]
  },
  {
   "cell_type": "code",
   "execution_count": 17,
   "id": "25ba1c70",
   "metadata": {},
   "outputs": [
    {
     "name": "stdout",
     "output_type": "stream",
     "text": [
      "<class 'bool'>\n"
     ]
    }
   ],
   "source": [
    "### 4.5 Boolean type: bool\n",
    "b1= True\n",
    "print(type(b1))"
   ]
  },
  {
   "cell_type": "code",
   "execution_count": 18,
   "id": "60b102ee",
   "metadata": {},
   "outputs": [
    {
     "name": "stdout",
     "output_type": "stream",
     "text": [
      "{2, 5, 6, 7, 8}\n",
      "<class 'set'>\n"
     ]
    }
   ],
   "source": [
    "### 4.6 Set types: set\n",
    "s1={5,6,2,7,8,2}\n",
    "print(s1)\n",
    "print(type(s1))"
   ]
  },
  {
   "cell_type": "code",
   "execution_count": 19,
   "id": "b4a16b83",
   "metadata": {},
   "outputs": [
    {
     "data": {
      "text/plain": [
       "['python', 2, 3, 4, 'apple', 2.71, 2]"
      ]
     },
     "execution_count": 19,
     "metadata": {},
     "output_type": "execute_result"
    }
   ],
   "source": [
    "#1- A list is an ordered and indexed\n",
    "#collection of values that are changeable and\n",
    "#allows duplicates\n",
    "list1 = ['python',2,3,4,'apple',2.71,2]\n",
    "list1"
   ]
  },
  {
   "cell_type": "code",
   "execution_count": 20,
   "id": "83f011f0",
   "metadata": {},
   "outputs": [
    {
     "data": {
      "text/plain": [
       "('python', 2, 3, 4, 'apple', 2.71, 2)"
      ]
     },
     "execution_count": 20,
     "metadata": {},
     "output_type": "execute_result"
    }
   ],
   "source": [
    "#2- A tuple is an ordered collection of values\n",
    "#that are unchangeable and allows duplicates\n",
    "tuple1 = ('python',2,3,4,'apple',2.71,2)\n",
    "tuple1"
   ]
  },
  {
   "cell_type": "code",
   "execution_count": 21,
   "id": "b53a8d0e",
   "metadata": {},
   "outputs": [
    {
     "data": {
      "text/plain": [
       "{2, 2.71, 3, 4, 'apple', 'python'}"
      ]
     },
     "execution_count": 21,
     "metadata": {},
     "output_type": "execute_result"
    }
   ],
   "source": [
    "#3- A set is an unordered collection of\n",
    "# values that are changeable and does not\n",
    "# allow duplicates\n",
    "set1 = {'python',2,3,4,'apple',2.71,2}\n",
    "set1"
   ]
  },
  {
   "cell_type": "code",
   "execution_count": 22,
   "id": "f93a7da4",
   "metadata": {},
   "outputs": [
    {
     "data": {
      "text/plain": [
       "{'brand': 'Apple', 'product': 'iPhone', 'model': 'X'}"
      ]
     },
     "execution_count": 22,
     "metadata": {},
     "output_type": "execute_result"
    }
   ],
   "source": [
    "#4- A dictionary is a collection of values\n",
    "# that are unordered (but indexed) and\n",
    "# changeable\n",
    "dict1 = {\"brand\": \"Apple\",\"product\": \"iPhone\",\n",
    "\n",
    "\"model\": \"X\"}\n",
    "\n",
    "dict1"
   ]
  },
  {
   "cell_type": "code",
   "execution_count": 23,
   "id": "599c75c8",
   "metadata": {},
   "outputs": [
    {
     "name": "stdout",
     "output_type": "stream",
     "text": [
      "7\n",
      "3\n",
      "10\n",
      "3.0\n",
      "1\n",
      "25\n",
      "7\n"
     ]
    }
   ],
   "source": [
    "# Addition\n",
    "print(2+5)\n",
    "# Substraction\n",
    "print(5-2)\n",
    "# Multiplication\n",
    "print(2*5)\n",
    "# Division\n",
    "print(6/2)\n",
    "# Modulus, gives us remainder\n",
    "print(9%2)\n",
    "# Exponent, to raise power\n",
    "print(5**2)\n",
    "# Floor Division (gives integer), gives quotient\n",
    "print(15//2)"
   ]
  },
  {
   "cell_type": "code",
   "execution_count": 24,
   "id": "b5f58b83",
   "metadata": {},
   "outputs": [
    {
     "data": {
      "text/plain": [
       "True"
      ]
     },
     "execution_count": 24,
     "metadata": {},
     "output_type": "execute_result"
    }
   ],
   "source": [
    "# Equal to (==):\n",
    "a = 5\n",
    "b = 5\n",
    "a == b"
   ]
  },
  {
   "cell_type": "code",
   "execution_count": 25,
   "id": "13945638",
   "metadata": {},
   "outputs": [
    {
     "data": {
      "text/plain": [
       "True"
      ]
     },
     "execution_count": 25,
     "metadata": {},
     "output_type": "execute_result"
    }
   ],
   "source": [
    "# Not equal to (!=):\n",
    "a = 7\n",
    "b = 4\n",
    "a != b"
   ]
  },
  {
   "cell_type": "code",
   "execution_count": 26,
   "id": "b6e52787",
   "metadata": {},
   "outputs": [
    {
     "data": {
      "text/plain": [
       "True"
      ]
     },
     "execution_count": 26,
     "metadata": {},
     "output_type": "execute_result"
    }
   ],
   "source": [
    "# Greater than (>):\n",
    "a = 10\n",
    "b = 8\n",
    "a > b"
   ]
  },
  {
   "cell_type": "code",
   "execution_count": 27,
   "id": "eefe8228",
   "metadata": {},
   "outputs": [
    {
     "data": {
      "text/plain": [
       "False"
      ]
     },
     "execution_count": 27,
     "metadata": {},
     "output_type": "execute_result"
    }
   ],
   "source": [
    "# Less than (<):\n",
    "a = 10\n",
    "b = 8\n",
    "a < b"
   ]
  },
  {
   "cell_type": "code",
   "execution_count": 28,
   "id": "26ae8e95",
   "metadata": {},
   "outputs": [
    {
     "data": {
      "text/plain": [
       "True"
      ]
     },
     "execution_count": 28,
     "metadata": {},
     "output_type": "execute_result"
    }
   ],
   "source": [
    "# Greater than or equal to (>=):\n",
    "a = 5\n",
    "b = 5\n",
    "a >= b"
   ]
  },
  {
   "cell_type": "code",
   "execution_count": 29,
   "id": "800046ab",
   "metadata": {},
   "outputs": [
    {
     "data": {
      "text/plain": [
       "True"
      ]
     },
     "execution_count": 29,
     "metadata": {},
     "output_type": "execute_result"
    }
   ],
   "source": [
    "# Less than or equal to (<=):\n",
    "a = 3\n",
    "b = 4\n",
    "a <= b"
   ]
  },
  {
   "cell_type": "code",
   "execution_count": 30,
   "id": "c8a6f132",
   "metadata": {},
   "outputs": [
    {
     "data": {
      "text/plain": [
       "False"
      ]
     },
     "execution_count": 30,
     "metadata": {},
     "output_type": "execute_result"
    }
   ],
   "source": [
    "# Logical AND (and):\n",
    "x = True\n",
    "y = False\n",
    "x and y"
   ]
  },
  {
   "cell_type": "code",
   "execution_count": 31,
   "id": "fcf43297",
   "metadata": {},
   "outputs": [
    {
     "data": {
      "text/plain": [
       "True"
      ]
     },
     "execution_count": 31,
     "metadata": {},
     "output_type": "execute_result"
    }
   ],
   "source": [
    "# Logical OR (or):\n",
    "x = True\n",
    "y = False\n",
    "x or y"
   ]
  },
  {
   "cell_type": "code",
   "execution_count": 32,
   "id": "72335a31",
   "metadata": {},
   "outputs": [
    {
     "data": {
      "text/plain": [
       "False"
      ]
     },
     "execution_count": 32,
     "metadata": {},
     "output_type": "execute_result"
    }
   ],
   "source": [
    "# Logical NOT (not):\n",
    "x = True\n",
    "not x"
   ]
  },
  {
   "cell_type": "code",
   "execution_count": 33,
   "id": "c2569a81",
   "metadata": {},
   "outputs": [
    {
     "name": "stdout",
     "output_type": "stream",
     "text": [
      "10\n"
     ]
    }
   ],
   "source": [
    "# Assignment (=):\n",
    "a = 10\n",
    "print(a)"
   ]
  },
  {
   "cell_type": "code",
   "execution_count": 34,
   "id": "a686eb80",
   "metadata": {},
   "outputs": [
    {
     "name": "stdout",
     "output_type": "stream",
     "text": [
      "8\n"
     ]
    }
   ],
   "source": [
    "# Addition Assignment (+=):\n",
    "a = 5\n",
    "a += 3\n",
    "print(a)"
   ]
  },
  {
   "cell_type": "code",
   "execution_count": 35,
   "id": "a179fbe8",
   "metadata": {},
   "outputs": [
    {
     "name": "stdout",
     "output_type": "stream",
     "text": [
      "3\n"
     ]
    }
   ],
   "source": [
    "# Subtraction Assignment (-=):\n",
    "b = 7\n",
    "b -= 4\n",
    "print(b)"
   ]
  },
  {
   "cell_type": "code",
   "execution_count": 36,
   "id": "c4780510",
   "metadata": {},
   "outputs": [
    {
     "name": "stdout",
     "output_type": "stream",
     "text": [
      "3\n"
     ]
    }
   ],
   "source": [
    "# Subtraction Assignment (-=):\n",
    "b = 7\n",
    "b -= 4\n",
    "print(b)"
   ]
  },
  {
   "cell_type": "code",
   "execution_count": 37,
   "id": "c3d34b9e",
   "metadata": {},
   "outputs": [
    {
     "name": "stdout",
     "output_type": "stream",
     "text": [
      "12\n"
     ]
    }
   ],
   "source": [
    "# Multiplication Assignment (*=):\n",
    "c = 2\n",
    "c *= 6\n",
    "print(c)"
   ]
  },
  {
   "cell_type": "code",
   "execution_count": 38,
   "id": "7c61e1c6",
   "metadata": {},
   "outputs": [
    {
     "name": "stdout",
     "output_type": "stream",
     "text": [
      "5.0\n"
     ]
    }
   ],
   "source": [
    "# Division Assignment (/=):\n",
    "d = 10\n",
    "d /= 2\n",
    "print(d)"
   ]
  },
  {
   "cell_type": "code",
   "execution_count": 39,
   "id": "f79aae97",
   "metadata": {},
   "outputs": [
    {
     "name": "stdout",
     "output_type": "stream",
     "text": [
      "12\n",
      "61\n",
      "49\n",
      "-61\n",
      "240\n",
      "15\n"
     ]
    }
   ],
   "source": [
    "a = 60\n",
    "b = 13\n",
    "print(a&b)\n",
    "print(a|b)\n",
    "print(a^b)\n",
    "print(~a)\n",
    "print(a<<2)\n",
    "print(a>>2)"
   ]
  },
  {
   "cell_type": "code",
   "execution_count": 40,
   "id": "8a64f650",
   "metadata": {},
   "outputs": [
    {
     "name": "stdout",
     "output_type": "stream",
     "text": [
      "0b111101\n",
      "61\n"
     ]
    }
   ],
   "source": [
    "print(bin(61))\n",
    "print(int(0b111101))"
   ]
  },
  {
   "cell_type": "code",
   "execution_count": 41,
   "id": "8ea425bb",
   "metadata": {},
   "outputs": [
    {
     "data": {
      "text/plain": [
       "-15"
      ]
     },
     "execution_count": 41,
     "metadata": {},
     "output_type": "execute_result"
    }
   ],
   "source": [
    "~14"
   ]
  },
  {
   "cell_type": "code",
   "execution_count": 42,
   "id": "eed28136",
   "metadata": {},
   "outputs": [
    {
     "data": {
      "text/plain": [
       "True"
      ]
     },
     "execution_count": 42,
     "metadata": {},
     "output_type": "execute_result"
    }
   ],
   "source": [
    "x= 'Hello, World!'\n",
    "'ello' in x"
   ]
  },
  {
   "cell_type": "code",
   "execution_count": 43,
   "id": "8938127e",
   "metadata": {},
   "outputs": [
    {
     "data": {
      "text/plain": [
       "False"
      ]
     },
     "execution_count": 43,
     "metadata": {},
     "output_type": "execute_result"
    }
   ],
   "source": [
    "x= 'Hello, World!'\n",
    "'ello' not in x"
   ]
  },
  {
   "cell_type": "code",
   "execution_count": 44,
   "id": "ae25f846",
   "metadata": {},
   "outputs": [
    {
     "data": {
      "text/plain": [
       "True"
      ]
     },
     "execution_count": 44,
     "metadata": {},
     "output_type": "execute_result"
    }
   ],
   "source": [
    "x= 'Hello, World!'\n",
    "'hello' not in x"
   ]
  },
  {
   "cell_type": "code",
   "execution_count": 45,
   "id": "b48dc6bd",
   "metadata": {},
   "outputs": [
    {
     "data": {
      "text/plain": [
       "True"
      ]
     },
     "execution_count": 45,
     "metadata": {},
     "output_type": "execute_result"
    }
   ],
   "source": [
    "x='a'\n",
    "y='a'\n",
    "x is y\n"
   ]
  },
  {
   "cell_type": "code",
   "execution_count": 46,
   "id": "f6de2271",
   "metadata": {},
   "outputs": [
    {
     "data": {
      "text/plain": [
       "False"
      ]
     },
     "execution_count": 46,
     "metadata": {},
     "output_type": "execute_result"
    }
   ],
   "source": [
    "x='a'\n",
    "y='a'\n",
    "x is not y"
   ]
  },
  {
   "cell_type": "code",
   "execution_count": 47,
   "id": "2c809781",
   "metadata": {},
   "outputs": [
    {
     "name": "stdout",
     "output_type": "stream",
     "text": [
      "False\n",
      "True\n"
     ]
    }
   ],
   "source": [
    "a=5.0\n",
    "b=5\n",
    "print(a is b)\n",
    "print(a==b)"
   ]
  },
  {
   "cell_type": "code",
   "execution_count": 48,
   "id": "9155451a",
   "metadata": {},
   "outputs": [
    {
     "name": "stdout",
     "output_type": "stream",
     "text": [
      "Please enter your name: Khushi\n",
      "My name is : Khushi\n"
     ]
    }
   ],
   "source": [
    "# Example 1\n",
    "my_name = input('Please enter your name: ', )\n",
    "print(\"My name is :\", my_name)"
   ]
  },
  {
   "cell_type": "code",
   "execution_count": 49,
   "id": "132e52fc",
   "metadata": {},
   "outputs": [
    {
     "name": "stdout",
     "output_type": "stream",
     "text": [
      "Enter your age: 19\n",
      "You are 19 years old.\n"
     ]
    }
   ],
   "source": [
    "# Example 2\n",
    "age = int(input(\"Enter your age: \"))# we are doing explicit conversion here\n",
    "print('You are',age,'years old.')"
   ]
  },
  {
   "cell_type": "code",
   "execution_count": 50,
   "id": "56de3f31",
   "metadata": {},
   "outputs": [
    {
     "name": "stdout",
     "output_type": "stream",
     "text": [
      "Enter the length of rectangle:200\n",
      "Enter the width of rectangle:100\n",
      "Area of rectangle: 20000.0\n"
     ]
    }
   ],
   "source": [
    "#1-Write a Python expression that calculates the area of rectangle .It should ask to input\n",
    "#the length and width.\n",
    "length=float(input(\"Enter the length of rectangle:\"))\n",
    "width=float(input(\"Enter the width of rectangle:\"))\n",
    "print(\"Area of rectangle:\",length*width)"
   ]
  },
  {
   "cell_type": "code",
   "execution_count": 51,
   "id": "5495774a",
   "metadata": {},
   "outputs": [
    {
     "name": "stdout",
     "output_type": "stream",
     "text": [
      "1\n",
      "3\n"
     ]
    }
   ],
   "source": [
    "#2- Given the variables num1 = 10 and num2 = 3, write Python expression that\n",
    "#calculates\n",
    "#* A) the remainder when num1 is divided by num2.\n",
    "#* B) the quotient when num1 is divided by num2.\n",
    "num1=10\n",
    "num2=3\n",
    "print(num1%num2)\n",
    "print(num1//num2)"
   ]
  },
  {
   "cell_type": "code",
   "execution_count": 52,
   "id": "9e69ab52",
   "metadata": {},
   "outputs": [
    {
     "name": "stdout",
     "output_type": "stream",
     "text": [
      "Enter username:Khushi\n",
      "Enter age:19\n",
      "Hello Khushi Your age next year will be 20 years\n"
     ]
    }
   ],
   "source": [
    "#Write a Python program that takes the user's name and age as input and prints a\n",
    "#message saying,\n",
    "#• 'Hello', name, 'Your age next year will be', age, 'years'.\n",
    "name=input(\"Enter username:\")\n",
    "age=int(input(\"Enter age:\"))\n",
    "print('Hello', name, 'Your age next year will be', age+1, 'years')"
   ]
  },
  {
   "cell_type": "code",
   "execution_count": 53,
   "id": "0424ba8c",
   "metadata": {},
   "outputs": [
    {
     "name": "stdout",
     "output_type": "stream",
     "text": [
      "x is greater than 5\n"
     ]
    }
   ],
   "source": [
    "x = 7\n",
    "if x > 5:\n",
    "    print(\"x is greater than 5\")"
   ]
  },
  {
   "cell_type": "code",
   "execution_count": 54,
   "id": "ba88e3ce",
   "metadata": {},
   "outputs": [
    {
     "name": "stdout",
     "output_type": "stream",
     "text": [
      "x is greater than 5\n"
     ]
    }
   ],
   "source": [
    "x = 7\n",
    "if x > 5:\n",
    "    print(\"x is greater than 5\")\n",
    "else:\n",
    "    print(\"x is not greater than 5\")"
   ]
  },
  {
   "cell_type": "code",
   "execution_count": 55,
   "id": "a2e86152",
   "metadata": {},
   "outputs": [
    {
     "name": "stdout",
     "output_type": "stream",
     "text": [
      "x is less than 5\n"
     ]
    }
   ],
   "source": [
    "x = 3\n",
    "if x > 5:\n",
    "    print(\"x is greater than 5\")\n",
    "elif x == 5:\n",
    "    print(\"x is equal to 5\")\n",
    "else:\n",
    "    print(\"x is less than 5\")"
   ]
  },
  {
   "cell_type": "code",
   "execution_count": 56,
   "id": "00c6d1c3",
   "metadata": {},
   "outputs": [
    {
     "name": "stdout",
     "output_type": "stream",
     "text": [
      "First condition is satisfied\n",
      "Both conditions are satisfied\n"
     ]
    }
   ],
   "source": [
    "x = 10\n",
    "y = 5\n",
    "if x > 5:\n",
    "    print('First condition is satisfied')\n",
    "    if y > 3:\n",
    "        print(\"Both conditions are satisfied\")\n",
    "    else:\n",
    "        print(' Only second condition is not satisfied')\n",
    "else:\n",
    "    print('First condition is not satisfied')"
   ]
  },
  {
   "cell_type": "code",
   "execution_count": 57,
   "id": "4fb77e6d",
   "metadata": {},
   "outputs": [
    {
     "data": {
      "text/plain": [
       "'Greater than 5'"
      ]
     },
     "execution_count": 57,
     "metadata": {},
     "output_type": "execute_result"
    }
   ],
   "source": [
    "x = 10\n",
    "\"Greater than 5\" if x > 5 else \"Not greater than 5\""
   ]
  },
  {
   "cell_type": "code",
   "execution_count": 58,
   "id": "84f1a831",
   "metadata": {},
   "outputs": [
    {
     "name": "stdout",
     "output_type": "stream",
     "text": [
      "x is between 10 and 20.\n"
     ]
    }
   ],
   "source": [
    "x =18\n",
    "if 10 < x < 20:\n",
    "    print(\"x is between 10 and 20.\")"
   ]
  },
  {
   "cell_type": "code",
   "execution_count": 59,
   "id": "ac42ba02",
   "metadata": {},
   "outputs": [
    {
     "name": "stdout",
     "output_type": "stream",
     "text": [
      "Enter ur budget:50000\n",
      "You can buy the phone\n"
     ]
    }
   ],
   "source": [
    "#Q1. Write a code in Python that prints whether the customer can buy the a mobile Phone\n",
    "#or not based on his budget.\n",
    "#• Input the budget.\n",
    "#• Mobile price is 30000\n",
    "budget=float(input(\"Enter ur budget:\"))\n",
    "if budget>=30000:\n",
    "    print(\"You can buy the phone\")"
   ]
  },
  {
   "cell_type": "code",
   "execution_count": 60,
   "id": "64af5812",
   "metadata": {},
   "outputs": [
    {
     "name": "stdout",
     "output_type": "stream",
     "text": [
      "Enter the required storage in GB:246\n",
      "NA\n"
     ]
    }
   ],
   "source": [
    "#Q2. Suppose the price of the 32 GB, 64 GB, 128 GB and 256GB Phones are 15000, 20000,\n",
    "#30000, 40000 respectively. Write a conditional statement to print the price based on the\n",
    "#internal storage of the phone. If the entered storage is not available, print NA\n",
    "#Sol\n",
    "storage=int(input(\"Enter the required storage in GB:\"))\n",
    "if storage==256:\n",
    "    print(\"Price of Phone: 40,000\")\n",
    "elif storage==128:\n",
    "    print(\"Price of Phone: 30,000\") \n",
    "elif storage==64:\n",
    "    print(\"Price of Phone: 20,000\")     \n",
    "elif storage==32:\n",
    "    print(\"Price of Phone: 10,000\")  \n",
    "else:\n",
    "    print(\"NA\")"
   ]
  },
  {
   "cell_type": "code",
   "execution_count": 61,
   "id": "ffde013d",
   "metadata": {},
   "outputs": [
    {
     "name": "stdout",
     "output_type": "stream",
     "text": [
      "Enter ur score of 1st round:90\n",
      "Move to second round\n",
      "Enter ur score of 2nd round:90\n",
      "Move to 3rd round\n",
      "Enter ur score of 3rd round:90\n",
      "SELECTED\n"
     ]
    }
   ],
   "source": [
    "#Q3. Write a program for a candidate's selection prodedure for an examination with below\n",
    "#conditions are given:\n",
    "#• If the candidate score is above 80 in First Round, he/she is eligible to appear in Second\n",
    "#Round else not.\n",
    "#• If the candidate score is above 70 in Second Round, he/she is eligible to appear in Third\n",
    "#Round else not.\n",
    "#• If the candidate score is above 60 in Third Round, he/she is SELECTED else REJECTED.\n",
    "#Sol\n",
    "score=int(input(\"Enter ur score of 1st round:\"))\n",
    "if score>=80:\n",
    "    print(\"Move to second round\")\n",
    "    score2=int(input(\"Enter ur score of 2nd round:\"))\n",
    "    if score2>=70:\n",
    "        print(\"Move to 3rd round\")\n",
    "        score3=int(input(\"Enter ur score of 3rd round:\"))\n",
    "        if score3>=60:\n",
    "            print(\"SELECTED\")\n",
    "        else:\n",
    "            print(\"REJECTED\")\n",
    "    else:\n",
    "        print(\"Can't move to second round\")\n",
    "else:\n",
    "    print(\"Can't move to first round\")"
   ]
  },
  {
   "cell_type": "code",
   "execution_count": 62,
   "id": "bc0f202f",
   "metadata": {},
   "outputs": [
    {
     "name": "stdout",
     "output_type": "stream",
     "text": [
      "Enter ur percentage:100\n",
      "First group\n"
     ]
    }
   ],
   "source": [
    "#Q4. Print the Group of student based on given criteria:\n",
    "#• If marks are more than or equaL to 80 - Group1\n",
    "#• If marks are more than or equaL to 60 & less 80 - Group2\n",
    "#• If marks are more than or equaL to 40 & less 60 - Group3\n",
    "#Sol\n",
    "marks=float(input(\"Enter ur percentage:\"))\n",
    "if marks>80:\n",
    "    print(\"First group\")\n",
    "elif 60<marks<80:\n",
    "    print(\"Second group\")\n",
    "elif 40<marks<60:\n",
    "    print(\"Third group\")\n",
    "else:\n",
    "    print(\"NO group\")"
   ]
  },
  {
   "cell_type": "code",
   "execution_count": 63,
   "id": "08ee8cf0",
   "metadata": {},
   "outputs": [
    {
     "name": "stdout",
     "output_type": "stream",
     "text": [
      "Enter username:admin\n",
      "Enter password:admin123\n",
      "Login successful\n"
     ]
    }
   ],
   "source": [
    "#Q5 Nested Login System:\n",
    "#• Ask for username and Password of a user\n",
    "#• If username is 'admin' ask for password\n",
    "#• If username is incorrect print \"incorrect username\"\n",
    "#• If password is incorrect print \"incorrect password\"\n",
    "#• If password is 'admin123' print \"login successful\"\n",
    "#Sol\n",
    "username=input(\"Enter username:\")\n",
    "if username=='admin':\n",
    "    password=input(\"Enter password:\")\n",
    "    if password==\"admin123\":\n",
    "        print(\"Login successful\")\n",
    "    else:\n",
    "        print(\"Password is incorrect\")\n",
    "else:\n",
    "    print(\"Username is incorrect\")"
   ]
  },
  {
   "cell_type": "code",
   "execution_count": 64,
   "id": "1bb49f10",
   "metadata": {},
   "outputs": [
    {
     "name": "stdout",
     "output_type": "stream",
     "text": [
      "apple\n",
      "banana\n",
      "cherry\n"
     ]
    }
   ],
   "source": [
    "# Iterating over a list:\n",
    "fruits = [\"apple\", \"banana\", \"cherry\"]\n",
    "for fruit in fruits:\n",
    "    print(fruit)"
   ]
  },
  {
   "cell_type": "code",
   "execution_count": 65,
   "id": "fc8dea08",
   "metadata": {},
   "outputs": [
    {
     "name": "stdout",
     "output_type": "stream",
     "text": [
      "0\n",
      "1\n",
      "2\n",
      "3\n",
      "4\n"
     ]
    }
   ],
   "source": [
    "# Using range for numerical loops:\n",
    "for i in range(5):\n",
    "    print(i)"
   ]
  },
  {
   "cell_type": "code",
   "execution_count": 66,
   "id": "414c85e4",
   "metadata": {},
   "outputs": [
    {
     "name": "stdout",
     "output_type": "stream",
     "text": [
      "P\n",
      "y\n",
      "t\n",
      "h\n",
      "o\n",
      "n\n"
     ]
    }
   ],
   "source": [
    "# Iterating over a string:\n",
    "word = \"Python\"\n",
    "for char in word:\n",
    "    print(char)"
   ]
  },
  {
   "cell_type": "code",
   "execution_count": 67,
   "id": "e32ffb88",
   "metadata": {},
   "outputs": [
    {
     "name": "stdout",
     "output_type": "stream",
     "text": [
      "1\n",
      "2\n",
      "3\n",
      "4\n",
      "5\n",
      "no items in list\n"
     ]
    }
   ],
   "source": [
    "#for loop with else\n",
    "num=[1,2,3,4,5]\n",
    "for i in num:\n",
    "    print(i)\n",
    "else:\n",
    "    print(\"no items in list\")"
   ]
  },
  {
   "cell_type": "code",
   "execution_count": 68,
   "id": "ec3b662a",
   "metadata": {},
   "outputs": [
    {
     "name": "stdout",
     "output_type": "stream",
     "text": [
      "0\n",
      "1\n",
      "2\n",
      "3\n",
      "4\n"
     ]
    }
   ],
   "source": [
    "# Simple while loop:\n",
    "count = 0\n",
    "while count < 5:\n",
    "    print(count)\n",
    "    count += 1"
   ]
  },
  {
   "cell_type": "code",
   "execution_count": 69,
   "id": "9b607b93",
   "metadata": {},
   "outputs": [
    {
     "name": "stdout",
     "output_type": "stream",
     "text": [
      "0\n",
      "1\n",
      "2\n",
      "3\n",
      "4\n"
     ]
    }
   ],
   "source": [
    "i=0\n",
    "while i in range(5):\n",
    "    print(i)\n",
    "    i+=1"
   ]
  },
  {
   "cell_type": "code",
   "execution_count": 70,
   "id": "cb067373",
   "metadata": {},
   "outputs": [
    {
     "name": "stdout",
     "output_type": "stream",
     "text": [
      "0\n",
      "1\n",
      "2\n",
      "3\n",
      "4\n",
      "Loop condition is False.\n"
     ]
    }
   ],
   "source": [
    "#while loops can also have an else clause.\n",
    "#The else block is executed when the loop condition becomes False.\n",
    "count = 0\n",
    "while count < 5:\n",
    "    print(count)\n",
    "    count += 1\n",
    "else:\n",
    "    print(\"Loop condition is False.\")"
   ]
  },
  {
   "cell_type": "code",
   "execution_count": 71,
   "id": "21a6b518",
   "metadata": {},
   "outputs": [
    {
     "name": "stdout",
     "output_type": "stream",
     "text": [
      "Enter the required storage in GB:32\n",
      "The price after providing  5  percent discount is Rs. 9500.0\n",
      "The price after providing  10  percent discount is Rs. 9000.0\n",
      "The price after providing  15  percent discount is Rs. 8500.0\n",
      "The price after providing  20  percent discount is Rs. 8000.0\n"
     ]
    }
   ],
   "source": [
    "#Q1. Write a code in Python that prints the discounted price for each of the below-\n",
    "#mentioned discounts.\n",
    "\n",
    "#Suppose the price of the 32 GB, 64 GB, 128 GB and 256GB Phones are 15000, 20000, 30000,\n",
    "#40000 respectively. Claculate the prices of these phones after providing 5%, 10%, 15%, and\n",
    "#20% discounts respectively.\n",
    "#Sol\n",
    "storage=int(input(\"Enter the required storage in GB:\"))\n",
    "if storage==256:\n",
    "    price =40000\n",
    "    \n",
    "elif storage==128:\n",
    "    price = 30000\n",
    "    \n",
    "elif storage==64:\n",
    "    price= 20000  \n",
    "    \n",
    "elif storage==32:\n",
    "    price=10000\n",
    "    \n",
    "else:\n",
    "    print(\"Enter valid storage\")\n",
    "\n",
    "for i in range(5, 21, 5):\n",
    "    discount = price * (i / 100)\n",
    "    discounted_price = price - discount\n",
    "    print('The price after providing ', i,' percent discount is Rs.',discounted_price)"
   ]
  },
  {
   "cell_type": "code",
   "execution_count": 72,
   "id": "c1fa989d",
   "metadata": {},
   "outputs": [
    {
     "name": "stdout",
     "output_type": "stream",
     "text": [
      "Enter the required storage in GB:32\n",
      "The price after providing  5  percent discount is Rs. 9500.0\n",
      "The price after providing  10  percent discount is Rs. 9000.0\n",
      "The price after providing  15  percent discount is Rs. 8500.0\n",
      "The price after providing  20  percent discount is Rs. 8000.0\n"
     ]
    }
   ],
   "source": [
    "storage=int(input(\"Enter the required storage in GB:\"))\n",
    "if storage==256:\n",
    "    Price =40000\n",
    "    \n",
    "elif storage==128:\n",
    "    Price = 30000\n",
    "    \n",
    "elif storage==64:\n",
    "    Price= 20000  \n",
    "    \n",
    "elif storage==32:\n",
    "    Price=10000\n",
    "    \n",
    "else:\n",
    "    print(\"Enter valid storage\")\n",
    "\n",
    "i = 5\n",
    "while i <= 20:\n",
    "    discount = Price * (i / 100)\n",
    "    discounted_price = Price - discount\n",
    "    print('The price after providing ',i,\n",
    "    ' percent discount is Rs.',discounted_price)\n",
    "    i =i + 5"
   ]
  },
  {
   "cell_type": "code",
   "execution_count": 73,
   "id": "ff0f4416",
   "metadata": {},
   "outputs": [
    {
     "name": "stdout",
     "output_type": "stream",
     "text": [
      "5 X 0 = 0\n",
      "5 X 1 = 5\n",
      "5 X 2 = 10\n",
      "5 X 3 = 15\n",
      "5 X 4 = 20\n",
      "5 X 5 = 25\n",
      "5 X 6 = 30\n",
      "5 X 7 = 35\n",
      "5 X 8 = 40\n",
      "5 X 9 = 45\n"
     ]
    }
   ],
   "source": [
    "#Q2. Print the multiplication table of 5 using :\n",
    "#• for loop\n",
    "#• while loop\n",
    "for i in range(10):\n",
    "    print(5,\"X\",i,\"=\",i*5)"
   ]
  },
  {
   "cell_type": "code",
   "execution_count": 74,
   "id": "0f128f4d",
   "metadata": {},
   "outputs": [
    {
     "name": "stdout",
     "output_type": "stream",
     "text": [
      "5 X 1 = 5\n",
      "5 X 2 = 10\n",
      "5 X 3 = 15\n",
      "5 X 4 = 20\n",
      "5 X 5 = 25\n",
      "5 X 6 = 30\n",
      "5 X 7 = 35\n",
      "5 X 8 = 40\n",
      "5 X 9 = 45\n",
      "5 X 10 = 50\n"
     ]
    }
   ],
   "source": [
    "i=1\n",
    "while(i<=10):\n",
    "    print(5,\"X\",i,\"=\",i*5)\n",
    "    i+=1"
   ]
  },
  {
   "cell_type": "code",
   "execution_count": 75,
   "id": "43c88df7",
   "metadata": {},
   "outputs": [
    {
     "name": "stdout",
     "output_type": "stream",
     "text": [
      "2\n",
      "4\n",
      "6\n",
      "8\n",
      "10\n"
     ]
    }
   ],
   "source": [
    "#Q3. Print even numbers from 2 to 10 using :\n",
    "#• for loop:\n",
    "#• while loop\n",
    "for i in range(2,11):\n",
    "    if i%2==0:\n",
    "        print(i)"
   ]
  },
  {
   "cell_type": "code",
   "execution_count": 1,
   "id": "c6de2c0b",
   "metadata": {},
   "outputs": [
    {
     "name": "stdout",
     "output_type": "stream",
     "text": [
      "2\n",
      "4\n",
      "6\n",
      "8\n",
      "10\n"
     ]
    }
   ],
   "source": [
    "i=1        \n",
    "while(i<=10):\n",
    "    if (i%2==0):\n",
    "        print(i)\n",
    "    i+=1\n"
   ]
  },
  {
   "cell_type": "code",
   "execution_count": 8,
   "id": "e8ba19ac",
   "metadata": {},
   "outputs": [
    {
     "name": "stdout",
     "output_type": "stream",
     "text": [
      "All numbers are even\n"
     ]
    }
   ],
   "source": [
    "numbers=[2,4,6,8,10]\n",
    "if all(x%2==0 for x in numbers):\n",
    "    print(\"All numbers are even\")\n",
    "else:\n",
    "    print(\"All numbers are not even\")"
   ]
  },
  {
   "cell_type": "code",
   "execution_count": 5,
   "id": "b48a82ff",
   "metadata": {},
   "outputs": [
    {
     "name": "stdout",
     "output_type": "stream",
     "text": [
      "One number are even.\n"
     ]
    }
   ],
   "source": [
    "numbers = [1,3,5,7,4]\n",
    "if any (x % 2 == 0 for x in numbers):\n",
    "    print(\"One number are even.\")\n",
    "else:\n",
    "    print(\"all numbers are not even\")"
   ]
  },
  {
   "cell_type": "code",
   "execution_count": 9,
   "id": "26352d01",
   "metadata": {},
   "outputs": [
    {
     "name": "stdout",
     "output_type": "stream",
     "text": [
      "Alice 25\n",
      "Bob 30\n",
      "Charlie 22\n"
     ]
    }
   ],
   "source": [
    "names=['Alice','Bob','Charlie']\n",
    "ages=[25,30,22]\n",
    "for name,age in zip(names,ages):\n",
    "    print(name,age)"
   ]
  },
  {
   "cell_type": "code",
   "execution_count": 15,
   "id": "fa26b9ee",
   "metadata": {},
   "outputs": [
    {
     "name": "stdout",
     "output_type": "stream",
     "text": [
      "0 apple\n",
      "1 banana\n",
      "2 cherry\n"
     ]
    }
   ],
   "source": [
    "fruits = ['apple', 'banana', 'cherry']\n",
    "for index, value in enumerate(fruits):\n",
    "    print(index,value)"
   ]
  },
  {
   "cell_type": "code",
   "execution_count": 17,
   "id": "52c4502e",
   "metadata": {},
   "outputs": [
    {
     "name": "stdout",
     "output_type": "stream",
     "text": [
      "apple\n",
      "banana\n",
      "mango\n"
     ]
    }
   ],
   "source": [
    "# In this example, the loop will terminate when it encounters the string \"cherry\".\n",
    "fruits = [\"apple\", \"banana\", \"mango\", \"date\"]\n",
    "for fruit in fruits:\n",
    "    print(fruit)\n",
    "    if fruit == \"mango\":\n",
    "        break"
   ]
  },
  {
   "cell_type": "code",
   "execution_count": 19,
   "id": "134079f7",
   "metadata": {},
   "outputs": [
    {
     "name": "stdout",
     "output_type": "stream",
     "text": [
      "1\n",
      "3\n",
      "5\n"
     ]
    }
   ],
   "source": [
    "# In this example, even numbers are skipped, and only odd numbers are printed.\n",
    "numbers = [1, 2, 3, 4, 5]\n",
    "for num in numbers:\n",
    "    if num % 2 == 0:\n",
    "        continue\n",
    "    print(num)"
   ]
  },
  {
   "cell_type": "code",
   "execution_count": 25,
   "id": "adc3d229",
   "metadata": {},
   "outputs": [
    {
     "name": "stdout",
     "output_type": "stream",
     "text": [
      "hdnn\n"
     ]
    }
   ],
   "source": [
    "# In this example, the pass statement is used when the condition x > 5 is true.\n",
    "x = 10\n",
    "if x > 5:\n",
    "    pass # do nothing\n",
    "else:\n",
    "    print(\"x is not greater than 5\")"
   ]
  },
  {
   "cell_type": "code",
   "execution_count": 24,
   "id": "eff37f51",
   "metadata": {},
   "outputs": [
    {
     "name": "stdout",
     "output_type": "stream",
     "text": [
      "x is not greater than 5\n"
     ]
    }
   ],
   "source": [
    "x = 4\n",
    "if x > 5:\n",
    "    pass # do nothing\n",
    "else:\n",
    "    print(\"x is not greater than 5\")"
   ]
  },
  {
   "cell_type": "code",
   "execution_count": 28,
   "id": "c01030d8",
   "metadata": {},
   "outputs": [
    {
     "data": {
      "text/plain": [
       "{'*', 19, 2, 3, 31, 5.0, 'four'}"
      ]
     },
     "execution_count": 28,
     "metadata": {},
     "output_type": "execute_result"
    }
   ],
   "source": [
    "my_set = {31, 2, 3, 'four', 5.0,'*', 19,'four'}\n",
    "my_set"
   ]
  },
  {
   "cell_type": "code",
   "execution_count": 29,
   "id": "0e009253",
   "metadata": {},
   "outputs": [
    {
     "ename": "TypeError",
     "evalue": "'set' object is not subscriptable",
     "output_type": "error",
     "traceback": [
      "\u001b[1;31m---------------------------------------------------------------------------\u001b[0m",
      "\u001b[1;31mTypeError\u001b[0m                                 Traceback (most recent call last)",
      "Cell \u001b[1;32mIn[29], line 2\u001b[0m\n\u001b[0;32m      1\u001b[0m \u001b[38;5;66;03m# Accessing the first element\u001b[39;00m\n\u001b[1;32m----> 2\u001b[0m first_element \u001b[38;5;241m=\u001b[39m my_set[\u001b[38;5;241m0\u001b[39m]\n\u001b[0;32m      3\u001b[0m \u001b[38;5;28mprint\u001b[39m(first_element)\n",
      "\u001b[1;31mTypeError\u001b[0m: 'set' object is not subscriptable"
     ]
    }
   ],
   "source": [
    "# Accessing the first element\n",
    "first_element = my_set[0]\n",
    "print(first_element)"
   ]
  },
  {
   "cell_type": "code",
   "execution_count": 30,
   "id": "0cebca00",
   "metadata": {},
   "outputs": [],
   "source": [
    "set1 = {1, 2, 3}\n",
    "set2 = {'a', 'b', 'c'}"
   ]
  },
  {
   "cell_type": "code",
   "execution_count": 31,
   "id": "2dde19aa",
   "metadata": {},
   "outputs": [
    {
     "ename": "TypeError",
     "evalue": "unsupported operand type(s) for +: 'set' and 'set'",
     "output_type": "error",
     "traceback": [
      "\u001b[1;31m---------------------------------------------------------------------------\u001b[0m",
      "\u001b[1;31mTypeError\u001b[0m                                 Traceback (most recent call last)",
      "Cell \u001b[1;32mIn[31], line 2\u001b[0m\n\u001b[0;32m      1\u001b[0m \u001b[38;5;66;03m# Concatenation: Combining two or more sets is not possible\u001b[39;00m\n\u001b[1;32m----> 2\u001b[0m combined_set \u001b[38;5;241m=\u001b[39m set1 \u001b[38;5;241m+\u001b[39m set2\n\u001b[0;32m      3\u001b[0m \u001b[38;5;28mprint\u001b[39m(combined_set)\n",
      "\u001b[1;31mTypeError\u001b[0m: unsupported operand type(s) for +: 'set' and 'set'"
     ]
    }
   ],
   "source": [
    "# Concatenation: Combining two or more sets is not possible\n",
    "combined_set = set1 + set2\n",
    "print(combined_set)"
   ]
  },
  {
   "cell_type": "code",
   "execution_count": 32,
   "id": "57d4aec4",
   "metadata": {},
   "outputs": [
    {
     "ename": "TypeError",
     "evalue": "unsupported operand type(s) for *: 'set' and 'int'",
     "output_type": "error",
     "traceback": [
      "\u001b[1;31m---------------------------------------------------------------------------\u001b[0m",
      "\u001b[1;31mTypeError\u001b[0m                                 Traceback (most recent call last)",
      "Cell \u001b[1;32mIn[32], line 2\u001b[0m\n\u001b[0;32m      1\u001b[0m \u001b[38;5;66;03m# Repetition: Repeating elements in a set is again not possible\u001b[39;00m\n\u001b[1;32m----> 2\u001b[0m repeated_set \u001b[38;5;241m=\u001b[39m set1 \u001b[38;5;241m*\u001b[39m \u001b[38;5;241m3\u001b[39m\n\u001b[0;32m      3\u001b[0m \u001b[38;5;28mprint\u001b[39m(repeated_set)\n",
      "\u001b[1;31mTypeError\u001b[0m: unsupported operand type(s) for *: 'set' and 'int'"
     ]
    }
   ],
   "source": [
    "# Repetition: Repeating elements in a set is again not possible\n",
    "repeated_set = set1 * 3\n",
    "print(repeated_set)"
   ]
  },
  {
   "cell_type": "code",
   "execution_count": 33,
   "id": "7637da15",
   "metadata": {},
   "outputs": [
    {
     "data": {
      "text/plain": [
       "{'*', 19, 2, 3, 31, 5.0, 'four'}"
      ]
     },
     "execution_count": 33,
     "metadata": {},
     "output_type": "execute_result"
    }
   ],
   "source": [
    "my_set"
   ]
  },
  {
   "cell_type": "code",
   "execution_count": 35,
   "id": "22f15ace",
   "metadata": {},
   "outputs": [
    {
     "ename": "TypeError",
     "evalue": "'set' object does not support item assignment",
     "output_type": "error",
     "traceback": [
      "\u001b[1;31m---------------------------------------------------------------------------\u001b[0m",
      "\u001b[1;31mTypeError\u001b[0m                                 Traceback (most recent call last)",
      "Cell \u001b[1;32mIn[35], line 3\u001b[0m\n\u001b[0;32m      1\u001b[0m \u001b[38;5;66;03m# Modifying Elements: Sets are mutable but unordered, so we cannot modify␣\u001b[39;00m\n\u001b[0;32m      2\u001b[0m \u001b[38;5;66;03m#elements\u001b[39;00m\n\u001b[1;32m----> 3\u001b[0m my_set[\u001b[38;5;241m3\u001b[39m] \u001b[38;5;241m=\u001b[39m \u001b[38;5;124m'\u001b[39m\u001b[38;5;124mone\u001b[39m\u001b[38;5;124m'\u001b[39m \u001b[38;5;66;03m# Modify element at 3rd index\u001b[39;00m\n\u001b[0;32m      4\u001b[0m \u001b[38;5;28mprint\u001b[39m(my_list)\n",
      "\u001b[1;31mTypeError\u001b[0m: 'set' object does not support item assignment"
     ]
    }
   ],
   "source": [
    "# Modifying Elements: Sets are mutable but unordered, so we cannot modify␣\n",
    "#elements\n",
    "my_set[3] = 'one' # Modify element at 3rd index\n",
    "print(my_list)"
   ]
  },
  {
   "cell_type": "code",
   "execution_count": 36,
   "id": "b28de4e6",
   "metadata": {},
   "outputs": [
    {
     "name": "stdout",
     "output_type": "stream",
     "text": [
      "{'four', 2, 3, '*', 5.0, 19, 31}\n",
      "{'four', 2, 3, '*', 5.0, 19, 'added element', 31}\n"
     ]
    }
   ],
   "source": [
    "# Adding Elements: Using methods add() to add elements.\n",
    "print(my_set)\n",
    "my_set.add('added element') # Add element 'added element'\n",
    "print(my_set)"
   ]
  },
  {
   "cell_type": "code",
   "execution_count": 37,
   "id": "d330894b",
   "metadata": {},
   "outputs": [
    {
     "name": "stdout",
     "output_type": "stream",
     "text": [
      "{'four', 2, 3, '*', 5.0, 19, 'added element', 31}\n",
      "four\n",
      "{2, 3, '*', 5.0, 19, 'added element', 31}\n"
     ]
    }
   ],
   "source": [
    "# Removing Elements: Using methods like remove() or pop() to delete elements.\n",
    "print(my_set)\n",
    "removed_element = my_set.pop() # Remove and return any arbitrary element\n",
    "print(removed_element)\n",
    "print(my_set)"
   ]
  },
  {
   "cell_type": "code",
   "execution_count": 38,
   "id": "4851deaa",
   "metadata": {},
   "outputs": [
    {
     "name": "stdout",
     "output_type": "stream",
     "text": [
      "{2, 3, '*', 5.0, 19, 'added element', 31}\n",
      "None\n",
      "{2, 3, '*', 19, 'added element', 31}\n"
     ]
    }
   ],
   "source": [
    "print(my_set)\n",
    "removed_element = my_set.remove(5.0) # Remove element 5.0\n",
    "print(removed_element)\n",
    "print(my_set)"
   ]
  },
  {
   "cell_type": "code",
   "execution_count": 39,
   "id": "ec918faa",
   "metadata": {},
   "outputs": [
    {
     "name": "stdout",
     "output_type": "stream",
     "text": [
      "{2, 3, '*', 19, 'added element', 31}\n",
      "None\n",
      "{2, 3, '*', 19, 'added element'}\n"
     ]
    }
   ],
   "source": [
    "print(my_set)\n",
    "removed_element = my_set.discard(31) # Remove element 5.0\n",
    "print(removed_element)\n",
    "print(my_set)"
   ]
  },
  {
   "cell_type": "code",
   "execution_count": 46,
   "id": "06eff7f3",
   "metadata": {},
   "outputs": [
    {
     "name": "stdout",
     "output_type": "stream",
     "text": [
      "{3, '*', 19, 'added element'}\n"
     ]
    },
    {
     "ename": "KeyError",
     "evalue": "5.0",
     "output_type": "error",
     "traceback": [
      "\u001b[1;31m---------------------------------------------------------------------------\u001b[0m",
      "\u001b[1;31mKeyError\u001b[0m                                  Traceback (most recent call last)",
      "Cell \u001b[1;32mIn[46], line 2\u001b[0m\n\u001b[0;32m      1\u001b[0m \u001b[38;5;28mprint\u001b[39m(my_set)\n\u001b[1;32m----> 2\u001b[0m removed_element \u001b[38;5;241m=\u001b[39m my_set\u001b[38;5;241m.\u001b[39mremove(\u001b[38;5;241m5.0\u001b[39m) \u001b[38;5;66;03m# Remove element 5.0\u001b[39;00m\n\u001b[0;32m      3\u001b[0m \u001b[38;5;28mprint\u001b[39m(removed_element)\n\u001b[0;32m      4\u001b[0m \u001b[38;5;28mprint\u001b[39m(my_set)\n",
      "\u001b[1;31mKeyError\u001b[0m: 5.0"
     ]
    }
   ],
   "source": [
    "print(my_set)\n",
    "removed_element = my_set.remove(5.0) # Remove element 5.0\n",
    "print(removed_element)\n",
    "print(my_set)"
   ]
  },
  {
   "cell_type": "code",
   "execution_count": 47,
   "id": "614fd874",
   "metadata": {},
   "outputs": [
    {
     "name": "stdout",
     "output_type": "stream",
     "text": [
      "{3, '*', 19, 'added element'}\n",
      "None\n",
      "{3, '*', 19, 'added element'}\n"
     ]
    }
   ],
   "source": [
    "print(my_set)\n",
    "removed_element = my_set.discard(5.0) # Remove element 5.0\n",
    "print(removed_element)\n",
    "print(my_set)"
   ]
  },
  {
   "cell_type": "code",
   "execution_count": 48,
   "id": "d5375f19",
   "metadata": {},
   "outputs": [
    {
     "name": "stdout",
     "output_type": "stream",
     "text": [
      "{3, '*', 19, 'added element'}\n",
      "4\n"
     ]
    }
   ],
   "source": [
    "# len(): Finding the length of a set.\n",
    "print(my_set)\n",
    "length_of_set = len(my_set)\n",
    "print(length_of_set)"
   ]
  },
  {
   "cell_type": "code",
   "execution_count": 49,
   "id": "a8e52570",
   "metadata": {},
   "outputs": [
    {
     "name": "stdout",
     "output_type": "stream",
     "text": [
      "{1, 2, 4, 6, 54, 89}\n",
      "[1, 2, 4, 6, 54, 89]\n"
     ]
    }
   ],
   "source": [
    "# sorted(): Sorting elements in a set.\n",
    "numerical_set={2,6,1,89,54,4,6}\n",
    "print(numerical_set)\n",
    "sorted_set = sorted(numerical_set) # Always returns a list\n",
    "print(sorted_set)"
   ]
  },
  {
   "cell_type": "code",
   "execution_count": 50,
   "id": "00da738a",
   "metadata": {},
   "outputs": [
    {
     "name": "stdout",
     "output_type": "stream",
     "text": [
      "89\n",
      "1\n"
     ]
    }
   ],
   "source": [
    "# max(), min(): Returns the maximum and minimum values in a tuple.\n",
    "print(max(numerical_set))\n",
    "print(min(numerical_set))"
   ]
  },
  {
   "cell_type": "code",
   "execution_count": 51,
   "id": "2397652b",
   "metadata": {},
   "outputs": [
    {
     "data": {
      "text/plain": [
       "156"
      ]
     },
     "execution_count": 51,
     "metadata": {},
     "output_type": "execute_result"
    }
   ],
   "source": [
    "# sum(): Returns the sum of all elements in a tuple.\n",
    "sum(numerical_set)"
   ]
  },
  {
   "cell_type": "code",
   "execution_count": 52,
   "id": "99e0c887",
   "metadata": {},
   "outputs": [
    {
     "name": "stdout",
     "output_type": "stream",
     "text": [
      "{1, 2, 3, 'apple'}\n",
      "{3, 4, 5, 'mango'}\n"
     ]
    }
   ],
   "source": [
    "set1 = {1, 2, 3,'apple'}\n",
    "set2 = {3,'mango', 4, 5}\n",
    "print(set1)\n",
    "print(set2)"
   ]
  },
  {
   "cell_type": "code",
   "execution_count": 53,
   "id": "d1d71b0e",
   "metadata": {},
   "outputs": [
    {
     "data": {
      "text/plain": [
       "{1, 2, 3, 4, 5, 'apple', 'mango'}"
      ]
     },
     "execution_count": 53,
     "metadata": {},
     "output_type": "execute_result"
    }
   ],
   "source": [
    "# Union of sets\n",
    "union_result = set1.union(set2)\n",
    "union_result"
   ]
  },
  {
   "cell_type": "code",
   "execution_count": 54,
   "id": "a198076f",
   "metadata": {},
   "outputs": [
    {
     "data": {
      "text/plain": [
       "{3}"
      ]
     },
     "execution_count": 54,
     "metadata": {},
     "output_type": "execute_result"
    }
   ],
   "source": [
    "# Intersection of sets\n",
    "intersection_result = set1.intersection(set2)\n",
    "intersection_result"
   ]
  },
  {
   "cell_type": "code",
   "execution_count": 57,
   "id": "5026cf46",
   "metadata": {},
   "outputs": [
    {
     "data": {
      "text/plain": [
       "{1, 2, 'apple'}"
      ]
     },
     "execution_count": 57,
     "metadata": {},
     "output_type": "execute_result"
    }
   ],
   "source": [
    "# Set difference\n",
    "difference_result = set1.difference(set2)\n",
    "difference_result"
   ]
  },
  {
   "cell_type": "code",
   "execution_count": 58,
   "id": "58ad0288",
   "metadata": {},
   "outputs": [
    {
     "name": "stdout",
     "output_type": "stream",
     "text": [
      "{1, 2, 3}\n",
      "{1, 2, 3}\n"
     ]
    }
   ],
   "source": [
    "# Copying a list\n",
    "copied_set=set1\n",
    "copied_set.remove('apple')\n",
    "print(copied_set)\n",
    "print(set1)"
   ]
  },
  {
   "cell_type": "code",
   "execution_count": 59,
   "id": "7a8a4a46",
   "metadata": {},
   "outputs": [
    {
     "name": "stdout",
     "output_type": "stream",
     "text": [
      "{3, 4, 5}\n",
      "{3, 4, 5, 'mango'}\n"
     ]
    }
   ],
   "source": [
    "# So always use copy method\n",
    "copied_set=set2.copy()\n",
    "copied_set.remove('mango')\n",
    "print(copied_set)\n",
    "print(set2)\n"
   ]
  },
  {
   "cell_type": "code",
   "execution_count": 60,
   "id": "9dd699b1",
   "metadata": {},
   "outputs": [
    {
     "name": "stdout",
     "output_type": "stream",
     "text": [
      "{3, '*', 19, 'added element'}\n"
     ]
    }
   ],
   "source": [
    "print(my_set)"
   ]
  },
  {
   "cell_type": "code",
   "execution_count": 61,
   "id": "8236c57b",
   "metadata": {},
   "outputs": [
    {
     "name": "stdout",
     "output_type": "stream",
     "text": [
      "{3, '*', 19, 'added element'}\n",
      "True\n",
      "False\n"
     ]
    }
   ],
   "source": [
    "print(my_set)\n",
    "print(19 in my_set)\n",
    "print('mango' in my_set)"
   ]
  },
  {
   "cell_type": "code",
   "execution_count": 62,
   "id": "d85681b0",
   "metadata": {},
   "outputs": [
    {
     "ename": "AttributeError",
     "evalue": "'frozenset' object has no attribute 'add'",
     "output_type": "error",
     "traceback": [
      "\u001b[1;31m---------------------------------------------------------------------------\u001b[0m",
      "\u001b[1;31mAttributeError\u001b[0m                            Traceback (most recent call last)",
      "Cell \u001b[1;32mIn[62], line 4\u001b[0m\n\u001b[0;32m      2\u001b[0m set2 \u001b[38;5;241m=\u001b[39m \u001b[38;5;28mfrozenset\u001b[39m([\u001b[38;5;241m3\u001b[39m, \u001b[38;5;241m4\u001b[39m, \u001b[38;5;241m5\u001b[39m, \u001b[38;5;241m6\u001b[39m])\n\u001b[0;32m      3\u001b[0m \u001b[38;5;66;03m#try to add element into set1 gives an error\u001b[39;00m\n\u001b[1;32m----> 4\u001b[0m set1\u001b[38;5;241m.\u001b[39madd(\u001b[38;5;241m5\u001b[39m)\n",
      "\u001b[1;31mAttributeError\u001b[0m: 'frozenset' object has no attribute 'add'"
     ]
    }
   ],
   "source": [
    "set1 = frozenset([1, 2, 3, 4])\n",
    "set2 = frozenset([3, 4, 5, 6])\n",
    "#try to add element into set1 gives an error\n",
    "set1.add(5)"
   ]
  },
  {
   "cell_type": "code",
   "execution_count": 64,
   "id": "e1ba10c4",
   "metadata": {},
   "outputs": [
    {
     "data": {
      "text/plain": [
       "{2, 4, 5, 12, 13}"
      ]
     },
     "execution_count": 64,
     "metadata": {},
     "output_type": "execute_result"
    }
   ],
   "source": [
    "set1={12,13,4,5}\n",
    "set1.add(2)\n",
    "set1"
   ]
  },
  {
   "cell_type": "code",
   "execution_count": 66,
   "id": "e247a242",
   "metadata": {},
   "outputs": [
    {
     "name": "stdout",
     "output_type": "stream",
     "text": [
      "Unique brand are: {'Samsung', 'LG', 'Apple'}\n",
      "Unique RAM are: {8, 4, 12}\n",
      "Unique Memory are: {128, 64}\n",
      "Unique Price are: {90000, 40000, 60000, 120000}\n"
     ]
    }
   ],
   "source": [
    "#A Mobile store has provided a snapshot of the details of mobile phones sold by them.\n",
    "\n",
    "#Brand RAM (in GB) Memory (in GB) Price\n",
    "#Apple 4 128 90000\n",
    "#Samsung 12 128 60000\n",
    "#LG 8 64 40000\n",
    "#Apple 8 128 120000\n",
    "\n",
    "#Q. Store all brand , RAM and Memory attributes as set to find the unique elements.\n",
    "#Sol\n",
    "set_brand={\"Apple\",\"Samsung\",\"LG\",\"Apple\"}\n",
    "set_RAM={4,12,8,8}\n",
    "set_Memory={128,128,64,128}\n",
    "set_Price={90000,60000,40000,120000}\n",
    "print(\"Unique brand are:\",set_brand)\n",
    "print(\"Unique RAM are:\",set_RAM)\n",
    "print(\"Unique Memory are:\",set_Memory)\n",
    "print(\"Unique Price are:\",set_Price)\n"
   ]
  },
  {
   "cell_type": "code",
   "execution_count": 67,
   "id": "fa84ab36",
   "metadata": {},
   "outputs": [
    {
     "data": {
      "text/plain": [
       "True"
      ]
     },
     "execution_count": 67,
     "metadata": {},
     "output_type": "execute_result"
    }
   ],
   "source": [
    "'LG'in set_brand"
   ]
  },
  {
   "cell_type": "code",
   "execution_count": 68,
   "id": "e20478b7",
   "metadata": {},
   "outputs": [
    {
     "data": {
      "text/plain": [
       "[31, 2, 3, 'four', 5.0, '*', 19]"
      ]
     },
     "execution_count": 68,
     "metadata": {},
     "output_type": "execute_result"
    }
   ],
   "source": [
    "my_list = [31, 2, 3, 'four', 5.0,'*', 19]\n",
    "my_list"
   ]
  },
  {
   "cell_type": "code",
   "execution_count": 69,
   "id": "9308ddbe",
   "metadata": {},
   "outputs": [
    {
     "name": "stdout",
     "output_type": "stream",
     "text": [
      "31\n"
     ]
    }
   ],
   "source": [
    "first_element = my_list[0]\n",
    "print(first_element)"
   ]
  },
  {
   "cell_type": "code",
   "execution_count": 70,
   "id": "5b2b93fc",
   "metadata": {},
   "outputs": [
    {
     "name": "stdout",
     "output_type": "stream",
     "text": [
      "19\n"
     ]
    }
   ],
   "source": [
    "# Accessing the last element\n",
    "last_element = my_list[-1]\n",
    "print(last_element)"
   ]
  },
  {
   "cell_type": "code",
   "execution_count": 72,
   "id": "d7b98321",
   "metadata": {},
   "outputs": [
    {
     "name": "stdout",
     "output_type": "stream",
     "text": [
      "[31, 2, 3, 'four', 5.0]\n"
     ]
    }
   ],
   "source": [
    "# Accessing elements_sequentially\n",
    "elements_sequentially = my_list[0:5]\n",
    "print(elements_sequentially)"
   ]
  },
  {
   "cell_type": "code",
   "execution_count": 76,
   "id": "62bd60c6",
   "metadata": {},
   "outputs": [
    {
     "name": "stdout",
     "output_type": "stream",
     "text": [
      "[2, 'four']\n"
     ]
    }
   ],
   "source": [
    "# Accessing elements with certain step\n",
    "elements_stepped = my_list[1:5:2]\n",
    "print(elements_stepped)"
   ]
  },
  {
   "cell_type": "code",
   "execution_count": 77,
   "id": "fc1a0c08",
   "metadata": {},
   "outputs": [
    {
     "name": "stdout",
     "output_type": "stream",
     "text": [
      "[19, '*', 5.0, 'four', 3, 2, 31]\n"
     ]
    }
   ],
   "source": [
    "# Reversing a list elements with indexing\n",
    "reversed_list = my_list[::-1]\n",
    "print(reversed_list)"
   ]
  },
  {
   "cell_type": "code",
   "execution_count": 78,
   "id": "0b4b7ba7",
   "metadata": {},
   "outputs": [],
   "source": [
    "list1 = [1, 2, 3]\n",
    "list2 = ['a', 'b', 'c']"
   ]
  },
  {
   "cell_type": "code",
   "execution_count": 79,
   "id": "7ecc3d27",
   "metadata": {},
   "outputs": [
    {
     "name": "stdout",
     "output_type": "stream",
     "text": [
      "[1, 2, 3, 'a', 'b', 'c']\n"
     ]
    }
   ],
   "source": [
    "# Concatenation: Combining two or more lists.\n",
    "combined_list = list1 + list2\n",
    "print(combined_list)"
   ]
  },
  {
   "cell_type": "code",
   "execution_count": 80,
   "id": "d859fe61",
   "metadata": {},
   "outputs": [
    {
     "name": "stdout",
     "output_type": "stream",
     "text": [
      "[1, 2, 3, 1, 2, 3, 1, 2, 3]\n"
     ]
    }
   ],
   "source": [
    "# Repetition: Repeating elements in a list\n",
    "repeated_list = list1 * 3\n",
    "print(repeated_list)"
   ]
  },
  {
   "cell_type": "code",
   "execution_count": 82,
   "id": "a2d8669e",
   "metadata": {},
   "outputs": [
    {
     "name": "stdout",
     "output_type": "stream",
     "text": [
      "Number of elements in a list is 5\n"
     ]
    }
   ],
   "source": [
    "#Q1: WAP to count the number of elements in a list\n",
    "items = [45, 67, 34, 89, 5]\n",
    "count=0\n",
    "for i in items:\n",
    "    count=count+1\n",
    "print(\"Number of elements in a list is\", count)"
   ]
  },
  {
   "cell_type": "code",
   "execution_count": 85,
   "id": "af15ab18",
   "metadata": {},
   "outputs": [
    {
     "name": "stdout",
     "output_type": "stream",
     "text": [
      "75\n"
     ]
    }
   ],
   "source": [
    "#Q2: WAP to multiply all the number of elements in a list and print the output\n",
    "items = [5,3,1,5]\n",
    "# Initialize a variable 'total' to store the product of the numbers, starting␣\n",
    "#with 1\n",
    "total = 1\n",
    "# Iterate through each element 'x' in the input list 'items'\n",
    "for x in items:\n",
    "# Multiply the current element 'x' with the 'tot' variable\n",
    "    total *= x\n",
    "# Return the final product of the numbers\n",
    "print(total)"
   ]
  },
  {
   "cell_type": "code",
   "execution_count": 86,
   "id": "00fd8903",
   "metadata": {},
   "outputs": [
    {
     "name": "stdout",
     "output_type": "stream",
     "text": [
      "[31, 2, 3, 'one', 5.0, '*', 19]\n"
     ]
    }
   ],
   "source": [
    "# Modifying Elements: Lists are mutable, so you can change individual elements.\n",
    "my_list[3] = 'one' # Modify element at 3rd index\n",
    "print(my_list)"
   ]
  },
  {
   "cell_type": "code",
   "execution_count": 87,
   "id": "3178e995",
   "metadata": {},
   "outputs": [
    {
     "name": "stdout",
     "output_type": "stream",
     "text": [
      "[31, 2, 3, 'one', 5.0, '*', 19]\n"
     ]
    }
   ],
   "source": [
    "# Modifying Elements: Lists are mutable, so you can change individual elements.\n",
    "my_list[3] = 'one' # Modify element at 3rd index\n",
    "print(my_list)"
   ]
  },
  {
   "cell_type": "code",
   "execution_count": 89,
   "id": "a1c15425",
   "metadata": {},
   "outputs": [
    {
     "name": "stdout",
     "output_type": "stream",
     "text": [
      "[31, 2, 21, 'one', 5.0, '*', 19]\n"
     ]
    }
   ],
   "source": [
    "my_list[2]=21\n",
    "print(my_list)"
   ]
  },
  {
   "cell_type": "code",
   "execution_count": 90,
   "id": "fd3b450d",
   "metadata": {},
   "outputs": [
    {
     "name": "stdout",
     "output_type": "stream",
     "text": [
      "[31, 2, 21, 'one', 5.0, '*', 19]\n",
      "[31, 2, 21, 'one', 5.0, '*', 19, 6]\n"
     ]
    }
   ],
   "source": [
    "# Adding Elements: Using methods like append() to add elements.\n",
    "print(my_list)\n",
    "my_list.append(6) # Add element 6 at the end\n",
    "print(my_list)"
   ]
  },
  {
   "cell_type": "code",
   "execution_count": 91,
   "id": "f8ff5255",
   "metadata": {},
   "outputs": [
    {
     "name": "stdout",
     "output_type": "stream",
     "text": [
      "[31, 2, 21, 'one', 5.0, '*', 19, 6]\n",
      "21\n",
      "[31, 2, 'one', 5.0, '*', 19, 6]\n"
     ]
    }
   ],
   "source": [
    "# Removing Elements: Using methods like remove() or pop() to delete elements.\n",
    "print(my_list)\n",
    "removed_element = my_list.pop(2) # Remove and return element at index 2\n",
    "print(removed_element)\n",
    "print(my_list)"
   ]
  },
  {
   "cell_type": "code",
   "execution_count": 92,
   "id": "c7a64824",
   "metadata": {},
   "outputs": [
    {
     "name": "stdout",
     "output_type": "stream",
     "text": [
      "[31, 2, 'one', 5.0, '*', 19, 6]\n",
      "None\n",
      "[31, 2, 'one', '*', 19, 6]\n"
     ]
    }
   ],
   "source": [
    "print(my_list)\n",
    "removed_element = my_list.remove(5.0) # Remove element 5.0\n",
    "print(removed_element)\n",
    "print(my_list)"
   ]
  },
  {
   "cell_type": "code",
   "execution_count": 93,
   "id": "06515d2c",
   "metadata": {},
   "outputs": [
    {
     "name": "stdout",
     "output_type": "stream",
     "text": [
      "[31, 2, 'one', '*', 19, 6]\n",
      "6\n"
     ]
    }
   ],
   "source": [
    "# len(): Finding the length of a list.\n",
    "print(my_list)\n",
    "length_of_list = len(my_list)\n",
    "print(length_of_list)"
   ]
  },
  {
   "cell_type": "code",
   "execution_count": 96,
   "id": "0fea3f46",
   "metadata": {},
   "outputs": [
    {
     "name": "stdout",
     "output_type": "stream",
     "text": [
      "[2, 6, 1, 89.7, 54, 4]\n",
      "[1, 2, 4, 6, 54, 89.7]\n"
     ]
    }
   ],
   "source": [
    "# sorted(): Sorting elements in a list.\n",
    "numerical_list=[2,6,1,89.7,54,4]\n",
    "print(numerical_list)\n",
    "sorted_list = sorted(numerical_list)\n",
    "print(sorted_list)"
   ]
  },
  {
   "cell_type": "code",
   "execution_count": 95,
   "id": "0f042a30",
   "metadata": {},
   "outputs": [
    {
     "name": "stdout",
     "output_type": "stream",
     "text": [
      "[2, 6, 1, 'apple', 54, 4]\n"
     ]
    },
    {
     "ename": "TypeError",
     "evalue": "'<' not supported between instances of 'str' and 'int'",
     "output_type": "error",
     "traceback": [
      "\u001b[1;31m---------------------------------------------------------------------------\u001b[0m",
      "\u001b[1;31mTypeError\u001b[0m                                 Traceback (most recent call last)",
      "Cell \u001b[1;32mIn[95], line 3\u001b[0m\n\u001b[0;32m      1\u001b[0m numerical_list\u001b[38;5;241m=\u001b[39m[\u001b[38;5;241m2\u001b[39m,\u001b[38;5;241m6\u001b[39m,\u001b[38;5;241m1\u001b[39m,\u001b[38;5;124m'\u001b[39m\u001b[38;5;124mapple\u001b[39m\u001b[38;5;124m'\u001b[39m,\u001b[38;5;241m54\u001b[39m,\u001b[38;5;241m4\u001b[39m]\n\u001b[0;32m      2\u001b[0m \u001b[38;5;28mprint\u001b[39m(numerical_list)\n\u001b[1;32m----> 3\u001b[0m sorted_list \u001b[38;5;241m=\u001b[39m \u001b[38;5;28msorted\u001b[39m(numerical_list)\n\u001b[0;32m      4\u001b[0m \u001b[38;5;28mprint\u001b[39m(sorted_list)\n",
      "\u001b[1;31mTypeError\u001b[0m: '<' not supported between instances of 'str' and 'int'"
     ]
    }
   ],
   "source": [
    "numerical_list=[2,6,1,'apple',54,4]\n",
    "print(numerical_list)\n",
    "sorted_list = sorted(numerical_list)\n",
    "print(sorted_list)"
   ]
  },
  {
   "cell_type": "code",
   "execution_count": 97,
   "id": "2c238964",
   "metadata": {},
   "outputs": [
    {
     "data": {
      "text/plain": [
       "[31, 2, 'one', '*', 19, 6, 'seven']"
      ]
     },
     "execution_count": 97,
     "metadata": {},
     "output_type": "execute_result"
    }
   ],
   "source": [
    "# append(): Add an element to the end of the list.\n",
    "my_list.append('seven') # Add 'seven' to the end\n",
    "my_list"
   ]
  },
  {
   "cell_type": "code",
   "execution_count": 101,
   "id": "f67526cd",
   "metadata": {},
   "outputs": [
    {
     "data": {
      "text/plain": [
       "[31, 2, 'one', '*', 19, 6, 'seven', 7, 8, 9, 79]"
      ]
     },
     "execution_count": 101,
     "metadata": {},
     "output_type": "execute_result"
    }
   ],
   "source": [
    "# extend(): Extend the list by appending elements from another list.\n",
    "my_list.extend([7,8,9]) # Extend the list with elements [7,8,9]\n",
    "my_list"
   ]
  },
  {
   "cell_type": "code",
   "execution_count": 102,
   "id": "f2154b0b",
   "metadata": {},
   "outputs": [
    {
     "data": {
      "text/plain": [
       "1"
      ]
     },
     "execution_count": 102,
     "metadata": {},
     "output_type": "execute_result"
    }
   ],
   "source": [
    "# count(): Count occurrences of a specific element.\n",
    "occurrences_of_seven = my_list.count('seven') # Count occurrences\n",
    "occurrences_of_seven"
   ]
  },
  {
   "cell_type": "code",
   "execution_count": 103,
   "id": "db90cce4",
   "metadata": {},
   "outputs": [
    {
     "name": "stdout",
     "output_type": "stream",
     "text": [
      "[31, 2, 'one', '*', 19, 6, 'seven', 7, 8, 9, 79]\n"
     ]
    },
    {
     "data": {
      "text/plain": [
       "[31, 2, 'one', '*', 19, 6, 'seven', 7, 8, 9, 79, [7, 8, 9]]"
      ]
     },
     "execution_count": 103,
     "metadata": {},
     "output_type": "execute_result"
    }
   ],
   "source": [
    "# Difference in append and extend method\n",
    "print(my_list)\n",
    "my_list.append([7, 8, 9])\n",
    "my_list"
   ]
  },
  {
   "cell_type": "code",
   "execution_count": 105,
   "id": "09cddafc",
   "metadata": {},
   "outputs": [
    {
     "data": {
      "text/plain": [
       "[10, 3, 56, 17, 8, 14]"
      ]
     },
     "execution_count": 105,
     "metadata": {},
     "output_type": "execute_result"
    }
   ],
   "source": [
    "#7.0.1 Q3: WAP to swap the first and last element of the list [14, 3, 56, 17, 8, 10] and\n",
    "#output should be as shown below:\n",
    "#Before swapping [14, 3, 56, 17, 8, 10]\n",
    "#After swapping [10, 3, 56, 17, 8, 14]\n",
    "mylist=[14,3,56,17,8,10]\n",
    "mylist.pop(-1)\n",
    "mylist.pop(0)\n",
    "mylist.insert(0,10)\n",
    "mylist.append(14)\n",
    "mylist"
   ]
  },
  {
   "cell_type": "code",
   "execution_count": 106,
   "id": "1972f9db",
   "metadata": {},
   "outputs": [
    {
     "name": "stdout",
     "output_type": "stream",
     "text": [
      "[31, 'CHECK THIS!!!!', 'one', '*', 19, 6, 'seven', 7, 8, 9, 79, [7, 8, 9]]\n",
      "[31, 'CHECK THIS!!!!', 'one', '*', 19, 6, 'seven', 7, 8, 9, 79, [7, 8, 9]]\n",
      "1839407400768\n",
      "1839407400768\n"
     ]
    }
   ],
   "source": [
    "# Copying a list\n",
    "copied_list=my_list\n",
    "copied_list[1] = 'CHECK THIS!!!!'\n",
    "print(copied_list)\n",
    "print(my_list)\n",
    "print(id(my_list))\n",
    "print(id(copied_list))"
   ]
  },
  {
   "cell_type": "code",
   "execution_count": 107,
   "id": "102788bb",
   "metadata": {},
   "outputs": [
    {
     "name": "stdout",
     "output_type": "stream",
     "text": [
      "[31, 'WHAT ABOUT THIS!!!!', 'one', '*', 19, 6, 'seven', 7, 8, 9, 79, [7, 8, 9]]\n",
      "[31, 'CHECK THIS!!!!', 'one', '*', 19, 6, 'seven', 7, 8, 9, 79, [7, 8, 9]]\n",
      "1839407400768\n",
      "1839406925440\n"
     ]
    }
   ],
   "source": [
    "# So always use copy method\n",
    "copied_list=my_list.copy()\n",
    "copied_list[1] = 'WHAT ABOUT THIS!!!!'\n",
    "print(copied_list)\n",
    "print(my_list)\n",
    "print(id(my_list))\n",
    "print(id(copied_list))"
   ]
  },
  {
   "cell_type": "code",
   "execution_count": 108,
   "id": "022b9443",
   "metadata": {},
   "outputs": [
    {
     "data": {
      "text/plain": [
       "[42, 'one', [1, 'HOHO', 3], ['a', 'b', 'c'], [True, False], 'apple']"
      ]
     },
     "execution_count": 108,
     "metadata": {},
     "output_type": "execute_result"
    }
   ],
   "source": [
    "# Example\n",
    "nested_list = [42,'one',[1, 'HOHO', 3], ['a', 'b', 'c'], [True, False],'apple']\n",
    "nested_list"
   ]
  },
  {
   "cell_type": "code",
   "execution_count": 109,
   "id": "0697fa5c",
   "metadata": {},
   "outputs": [
    {
     "data": {
      "text/plain": [
       "'HOHO'"
      ]
     },
     "execution_count": 109,
     "metadata": {},
     "output_type": "execute_result"
    }
   ],
   "source": [
    "# Accessing Elements in Nested Lists:\n",
    "element = nested_list[2][1] # Accessing the element 'HOHO'\n",
    "element"
   ]
  },
  {
   "cell_type": "code",
   "execution_count": 111,
   "id": "87c5f394",
   "metadata": {},
   "outputs": [
    {
     "name": "stdout",
     "output_type": "stream",
     "text": [
      "[1, 2, 3, 4, 5, 6, 7]\n"
     ]
    }
   ],
   "source": [
    "my_list = [[1], [2, 3], [4, 5, 6, 7]]\n",
    "flat_list = []\n",
    "for sublist in my_list:\n",
    "    for num in sublist:\n",
    "        flat_list.append(num)\n",
    "print(flat_list)"
   ]
  },
  {
   "cell_type": "code",
   "execution_count": 112,
   "id": "488220fe",
   "metadata": {},
   "outputs": [
    {
     "data": {
      "text/plain": [
       "['Apple', 'Samsung', 'LG', 'Apple']"
      ]
     },
     "execution_count": 112,
     "metadata": {},
     "output_type": "execute_result"
    }
   ],
   "source": [
    "'''A Mobile store has provided a snapshot of the details of mobile phones sold by them.\n",
    "\n",
    "Brand RAM (in GB) Memory (in GB) Price\n",
    "Apple 4 64 90000\n",
    "Samsung 12 128 60000\n",
    "LG 8 64 40000\n",
    "Apple 8 128 120000\n",
    "\n",
    "Q. Store the brands in a list'''\n",
    "brand=[\"Apple\",\"Samsung\",\"LG\",\"Apple\"]\n",
    "brand"
   ]
  },
  {
   "cell_type": "code",
   "execution_count": 113,
   "id": "fee788c1",
   "metadata": {},
   "outputs": [
    {
     "data": {
      "text/plain": [
       "list"
      ]
     },
     "execution_count": 113,
     "metadata": {},
     "output_type": "execute_result"
    }
   ],
   "source": [
    "type(brand)"
   ]
  },
  {
   "cell_type": "code",
   "execution_count": 114,
   "id": "4ed4520d",
   "metadata": {},
   "outputs": [],
   "source": [
    "ram_list = [4, 12, 8, 4]\n",
    "storage_list = [128, 128, 64, 128]\n",
    "price_list = [90000, 60000, 40000, 120000]"
   ]
  },
  {
   "cell_type": "code",
   "execution_count": 116,
   "id": "4b1e1331",
   "metadata": {},
   "outputs": [
    {
     "data": {
      "text/plain": [
       "4"
      ]
     },
     "execution_count": 116,
     "metadata": {},
     "output_type": "execute_result"
    }
   ],
   "source": [
    "len(brand)"
   ]
  },
  {
   "cell_type": "code",
   "execution_count": 117,
   "id": "1261d92f",
   "metadata": {},
   "outputs": [
    {
     "data": {
      "text/plain": [
       "(40000, 120000)"
      ]
     },
     "execution_count": 117,
     "metadata": {},
     "output_type": "execute_result"
    }
   ],
   "source": [
    "min(price_list),max(price_list)"
   ]
  },
  {
   "cell_type": "code",
   "execution_count": 118,
   "id": "c6bb101b",
   "metadata": {},
   "outputs": [
    {
     "data": {
      "text/plain": [
       "8"
      ]
     },
     "execution_count": 118,
     "metadata": {},
     "output_type": "execute_result"
    }
   ],
   "source": [
    "ram_list[2]"
   ]
  },
  {
   "cell_type": "code",
   "execution_count": 121,
   "id": "24875a42",
   "metadata": {},
   "outputs": [
    {
     "data": {
      "text/plain": [
       "[90000, 60000, 40000]"
      ]
     },
     "execution_count": 121,
     "metadata": {},
     "output_type": "execute_result"
    }
   ],
   "source": [
    "#prinr three items from the list price_list.\n",
    "price_list[0:3]"
   ]
  },
  {
   "cell_type": "code",
   "execution_count": 124,
   "id": "d004f889",
   "metadata": {},
   "outputs": [
    {
     "data": {
      "text/plain": [
       "'LG'"
      ]
     },
     "execution_count": 124,
     "metadata": {},
     "output_type": "execute_result"
    }
   ],
   "source": [
    "brand[-2]"
   ]
  },
  {
   "cell_type": "code",
   "execution_count": 126,
   "id": "79bdd2e8",
   "metadata": {},
   "outputs": [
    {
     "data": {
      "text/plain": [
       "'Apple'"
      ]
     },
     "execution_count": 126,
     "metadata": {},
     "output_type": "execute_result"
    }
   ],
   "source": [
    "brand.pop()"
   ]
  },
  {
   "cell_type": "code",
   "execution_count": 127,
   "id": "17635a31",
   "metadata": {},
   "outputs": [
    {
     "data": {
      "text/plain": [
       "['Apple', 'Samsung', 'LG', 'Motorola']"
      ]
     },
     "execution_count": 127,
     "metadata": {},
     "output_type": "execute_result"
    }
   ],
   "source": [
    "brand.append('Motorola')\n",
    "brand"
   ]
  },
  {
   "cell_type": "code",
   "execution_count": 128,
   "id": "be591087",
   "metadata": {},
   "outputs": [
    {
     "data": {
      "text/plain": [
       "['Apple', 'Samsung', 'LG', 'Motorola']"
      ]
     },
     "execution_count": 128,
     "metadata": {},
     "output_type": "execute_result"
    }
   ],
   "source": [
    "brand"
   ]
  },
  {
   "cell_type": "code",
   "execution_count": 129,
   "id": "bb64a662",
   "metadata": {},
   "outputs": [
    {
     "data": {
      "text/plain": [
       "2"
      ]
     },
     "execution_count": 129,
     "metadata": {},
     "output_type": "execute_result"
    }
   ],
   "source": [
    "brand.index('LG')"
   ]
  },
  {
   "cell_type": "code",
   "execution_count": 130,
   "id": "e262043a",
   "metadata": {},
   "outputs": [
    {
     "data": {
      "text/plain": [
       "310000"
      ]
     },
     "execution_count": 130,
     "metadata": {},
     "output_type": "execute_result"
    }
   ],
   "source": [
    "sum(price_list)"
   ]
  },
  {
   "cell_type": "code",
   "execution_count": 134,
   "id": "3ed35c2f",
   "metadata": {},
   "outputs": [
    {
     "name": "stdout",
     "output_type": "stream",
     "text": [
      "[0, 1, 4, 9, 16, 25, 36, 49, 64, 81]\n"
     ]
    }
   ],
   "source": [
    "# without list comprehension\n",
    "squares = []\n",
    "for i in range(10):\n",
    "    squares.append(i**2) #list append, create squares of number\n",
    "print(squares)"
   ]
  },
  {
   "cell_type": "code",
   "execution_count": 135,
   "id": "d7373b7d",
   "metadata": {},
   "outputs": [
    {
     "name": "stdout",
     "output_type": "stream",
     "text": [
      "[0, 1, 4, 9, 16, 25, 36, 49, 64, 81]\n"
     ]
    }
   ],
   "source": [
    "#using list comprehension\n",
    "squares = [i**2 for i in range(10)]\n",
    "print(squares)"
   ]
  },
  {
   "cell_type": "code",
   "execution_count": 136,
   "id": "698c4b7a",
   "metadata": {},
   "outputs": [
    {
     "data": {
      "text/plain": [
       "(31, 2, 3, 'four', 5.0, '*', 19)"
      ]
     },
     "execution_count": 136,
     "metadata": {},
     "output_type": "execute_result"
    }
   ],
   "source": [
    "my_tuple = (31, 2, 3, 'four', 5.0, '*', 19)\n",
    "my_tuple"
   ]
  },
  {
   "cell_type": "code",
   "execution_count": 144,
   "id": "6b19d121",
   "metadata": {},
   "outputs": [
    {
     "data": {
      "text/plain": [
       "tuple"
      ]
     },
     "execution_count": 144,
     "metadata": {},
     "output_type": "execute_result"
    }
   ],
   "source": [
    "t1=(\"sat\",)\n",
    "type(t1)"
   ]
  },
  {
   "cell_type": "code",
   "execution_count": 145,
   "id": "8b9b4132",
   "metadata": {},
   "outputs": [
    {
     "data": {
      "text/plain": [
       "str"
      ]
     },
     "execution_count": 145,
     "metadata": {},
     "output_type": "execute_result"
    }
   ],
   "source": [
    "#only parenthesis is not enough\n",
    "t = ('satish')\n",
    "type(t)"
   ]
  },
  {
   "cell_type": "code",
   "execution_count": 146,
   "id": "1e1669ae",
   "metadata": {},
   "outputs": [
    {
     "data": {
      "text/plain": [
       "tuple"
      ]
     },
     "execution_count": 146,
     "metadata": {},
     "output_type": "execute_result"
    }
   ],
   "source": [
    "#need a comma at the end\n",
    "t = ('satish',)\n",
    "type(t)"
   ]
  },
  {
   "cell_type": "code",
   "execution_count": 147,
   "id": "4009cc49",
   "metadata": {},
   "outputs": [
    {
     "data": {
      "text/plain": [
       "tuple"
      ]
     },
     "execution_count": 147,
     "metadata": {},
     "output_type": "execute_result"
    }
   ],
   "source": [
    "#need a comma at the end\n",
    "t = ('satish',)\n",
    "type(t)"
   ]
  },
  {
   "cell_type": "code",
   "execution_count": 148,
   "id": "b9e9c79c",
   "metadata": {},
   "outputs": [
    {
     "name": "stdout",
     "output_type": "stream",
     "text": [
      "(1, 2, 3, 4, 5)\n"
     ]
    }
   ],
   "source": [
    "lst = [1, 2, 3, 4, 5]\n",
    "tup = tuple(lst)\n",
    "print(tup) # Output: (1, 2, 3, 4, 5)"
   ]
  },
  {
   "cell_type": "code",
   "execution_count": 150,
   "id": "b61f55ae",
   "metadata": {},
   "outputs": [
    {
     "name": "stdout",
     "output_type": "stream",
     "text": [
      "31\n"
     ]
    },
    {
     "data": {
      "text/plain": [
       "(31, 2, 3, 'four', 5.0, '*', 19)"
      ]
     },
     "execution_count": 150,
     "metadata": {},
     "output_type": "execute_result"
    }
   ],
   "source": [
    "# Accessing the first element\n",
    "first_element = my_tuple[0]\n",
    "print(first_element)\n",
    "my_tuple"
   ]
  },
  {
   "cell_type": "code",
   "execution_count": 151,
   "id": "31749cfe",
   "metadata": {},
   "outputs": [
    {
     "name": "stdout",
     "output_type": "stream",
     "text": [
      "19\n"
     ]
    }
   ],
   "source": [
    "# Accessing the last element\n",
    "last_element = my_tuple[-1]\n",
    "print(last_element)"
   ]
  },
  {
   "cell_type": "code",
   "execution_count": 152,
   "id": "da15e894",
   "metadata": {},
   "outputs": [
    {
     "name": "stdout",
     "output_type": "stream",
     "text": [
      "(2, 3, 'four', 5.0)\n"
     ]
    }
   ],
   "source": [
    "# Accessing elements_sequentially\n",
    "elements_sequentially = my_tuple[1:5]\n",
    "print(elements_sequentially)\n"
   ]
  },
  {
   "cell_type": "code",
   "execution_count": 153,
   "id": "ecb0b7e2",
   "metadata": {},
   "outputs": [
    {
     "name": "stdout",
     "output_type": "stream",
     "text": [
      "(2, 'four')\n"
     ]
    }
   ],
   "source": [
    "# Accessing elements with certain step\n",
    "elements_stepped = my_tuple[1:5:2]\n",
    "print(elements_stepped)"
   ]
  },
  {
   "cell_type": "code",
   "execution_count": 154,
   "id": "fbfb70a2",
   "metadata": {},
   "outputs": [
    {
     "name": "stdout",
     "output_type": "stream",
     "text": [
      "(19, '*', 5.0, 'four', 3, 2, 31)\n"
     ]
    }
   ],
   "source": [
    "# Reversing a list elements with indexing\n",
    "reversed_list = my_tuple[::-1]\n",
    "print(reversed_list)"
   ]
  },
  {
   "cell_type": "code",
   "execution_count": 155,
   "id": "eb1bd605",
   "metadata": {},
   "outputs": [
    {
     "name": "stdout",
     "output_type": "stream",
     "text": [
      "Addition of first and last digit of the number is 11\n"
     ]
    }
   ],
   "source": [
    "#WAP to print the sum of the fisrt and last element in a tuple\n",
    "number = (3,48,4,0,-12,8)\n",
    "first_digit = int(number[0])\n",
    "last_digit = int(number[-1])\n",
    "# Adding these two variables\n",
    "addition = first_digit + last_digit\n",
    "# Display our output\n",
    "print('Addition of first and last digit of the number is',\n",
    "addition)"
   ]
  },
  {
   "cell_type": "code",
   "execution_count": 156,
   "id": "d3229612",
   "metadata": {},
   "outputs": [
    {
     "name": "stdout",
     "output_type": "stream",
     "text": [
      "(50, 40, 30, 20, 10)\n"
     ]
    }
   ],
   "source": [
    "tuple1 = (10, 20, 30, 40, 50)\n",
    "tuple1 = tuple1[::-1]\n",
    "print(tuple1)"
   ]
  },
  {
   "cell_type": "code",
   "execution_count": 157,
   "id": "98b11ec6",
   "metadata": {},
   "outputs": [],
   "source": [
    "tuple1 = (1, 2, 3)\n",
    "tuple2 = ('a', 'b', 'c')"
   ]
  },
  {
   "cell_type": "code",
   "execution_count": 158,
   "id": "36a4895e",
   "metadata": {},
   "outputs": [
    {
     "name": "stdout",
     "output_type": "stream",
     "text": [
      "(1, 2, 3, 'a', 'b', 'c')\n"
     ]
    }
   ],
   "source": [
    "# Concatenation: Combining two or more lists.\n",
    "combined_tuple = tuple1 + tuple2\n",
    "print(combined_tuple)"
   ]
  },
  {
   "cell_type": "code",
   "execution_count": 159,
   "id": "1d1ea27d",
   "metadata": {},
   "outputs": [
    {
     "name": "stdout",
     "output_type": "stream",
     "text": [
      "(1, 2, 3, 1, 2, 3, 1, 2, 3)\n"
     ]
    }
   ],
   "source": [
    "# Repetition: Repeating elements in a list\n",
    "repeated_tuple = tuple1 * 3\n",
    "print(repeated_tuple)"
   ]
  },
  {
   "cell_type": "code",
   "execution_count": 161,
   "id": "b808b3d8",
   "metadata": {},
   "outputs": [
    {
     "ename": "TypeError",
     "evalue": "'tuple' object does not support item assignment",
     "output_type": "error",
     "traceback": [
      "\u001b[1;31m---------------------------------------------------------------------------\u001b[0m",
      "\u001b[1;31mTypeError\u001b[0m                                 Traceback (most recent call last)",
      "Cell \u001b[1;32mIn[161], line 3\u001b[0m\n\u001b[0;32m      1\u001b[0m \u001b[38;5;66;03m# Modifying Elements: Tuples are imutable, so you cannot change individual␣\u001b[39;00m\n\u001b[0;32m      2\u001b[0m \u001b[38;5;66;03m#elements.\u001b[39;00m\n\u001b[1;32m----> 3\u001b[0m my_tuple[\u001b[38;5;241m3\u001b[39m] \u001b[38;5;241m=\u001b[39m \u001b[38;5;124m'\u001b[39m\u001b[38;5;124mone\u001b[39m\u001b[38;5;124m'\u001b[39m \u001b[38;5;66;03m# Modify element at 3rd index\u001b[39;00m\n\u001b[0;32m      4\u001b[0m \u001b[38;5;28mprint\u001b[39m(my_tuple)\n",
      "\u001b[1;31mTypeError\u001b[0m: 'tuple' object does not support item assignment"
     ]
    }
   ],
   "source": [
    "# Modifying Elements: Tuples are imutable, so you cannot change individual␣\n",
    "#elements.\n",
    "my_tuple[3] = 'one' # Modify element at 3rd index\n",
    "print(my_tuple)"
   ]
  },
  {
   "cell_type": "code",
   "execution_count": 162,
   "id": "ac8ab969",
   "metadata": {},
   "outputs": [
    {
     "name": "stdout",
     "output_type": "stream",
     "text": [
      "(31, 2, 3, 'four', 5.0, '*', 19)\n",
      "(31, 2, 3, 'one', 5.0, '*', 19)\n"
     ]
    }
   ],
   "source": [
    "print(my_tuple)\n",
    "my_tuple_list=list(my_tuple)\n",
    "my_tuple_list[3]='one'\n",
    "my_tuple_updated=tuple(my_tuple_list)\n",
    "print(my_tuple_updated)"
   ]
  },
  {
   "cell_type": "code",
   "execution_count": 163,
   "id": "499bb93b",
   "metadata": {},
   "outputs": [
    {
     "name": "stdout",
     "output_type": "stream",
     "text": [
      "(31, 2, 3, 'four', 5.0, '*', 19)\n",
      "7\n"
     ]
    }
   ],
   "source": [
    "# len(): Finding the length of a tuple.\n",
    "print(my_tuple)\n",
    "length_of_tuple = len(my_tuple)\n",
    "print(length_of_tuple)"
   ]
  },
  {
   "cell_type": "code",
   "execution_count": 164,
   "id": "11c2814a",
   "metadata": {},
   "outputs": [
    {
     "name": "stdout",
     "output_type": "stream",
     "text": [
      "(2, 6, 1, 89, 54, 4)\n",
      "[1, 2, 4, 6, 54, 89]\n"
     ]
    }
   ],
   "source": [
    "# sorted(): Sorting elements in a list.\n",
    "numerical_tuple=(2,6,1,89,54,4)\n",
    "print(numerical_tuple)\n",
    "sorted_tuple = sorted(numerical_tuple) # Always returns a list\n",
    "print(sorted_tuple)"
   ]
  },
  {
   "cell_type": "code",
   "execution_count": 165,
   "id": "512022e4",
   "metadata": {},
   "outputs": [
    {
     "name": "stdout",
     "output_type": "stream",
     "text": [
      "89\n",
      "1\n"
     ]
    }
   ],
   "source": [
    "# max(), min(): Returns the maximum and minimum values in a tuple.\n",
    "print(max(numerical_tuple))\n",
    "print(min(numerical_tuple))"
   ]
  },
  {
   "cell_type": "code",
   "execution_count": 166,
   "id": "d7681f01",
   "metadata": {},
   "outputs": [
    {
     "data": {
      "text/plain": [
       "156"
      ]
     },
     "execution_count": 166,
     "metadata": {},
     "output_type": "execute_result"
    }
   ],
   "source": [
    "# sum(): Returns the sum of all elements in a tuple.\n",
    "sum(numerical_tuple)"
   ]
  },
  {
   "cell_type": "code",
   "execution_count": 167,
   "id": "9528df35",
   "metadata": {},
   "outputs": [
    {
     "data": {
      "text/plain": [
       "(31, 2, 3, 'four', 5.0, '*', 19)"
      ]
     },
     "execution_count": 167,
     "metadata": {},
     "output_type": "execute_result"
    }
   ],
   "source": [
    "my_tuple"
   ]
  },
  {
   "cell_type": "code",
   "execution_count": 168,
   "id": "3eed2293",
   "metadata": {},
   "outputs": [
    {
     "data": {
      "text/plain": [
       "1"
      ]
     },
     "execution_count": 168,
     "metadata": {},
     "output_type": "execute_result"
    }
   ],
   "source": [
    "# count(): Count occurrences of a specific element.\n",
    "occurrences_of_seven = my_tuple.count('four') # Count occurrences\n",
    "occurrences_of_seven"
   ]
  },
  {
   "cell_type": "code",
   "execution_count": 169,
   "id": "7eab5b5b",
   "metadata": {},
   "outputs": [
    {
     "name": "stdout",
     "output_type": "stream",
     "text": [
      "(31, 2, 3, 'four', 5.0, '*', 19)\n"
     ]
    },
    {
     "data": {
      "text/plain": [
       "3"
      ]
     },
     "execution_count": 169,
     "metadata": {},
     "output_type": "execute_result"
    }
   ],
   "source": [
    "# index(): Returns the index of the first occurrence of a specific element.\n",
    "print(my_tuple)\n",
    "index_of_three = my_tuple.index('four')\n",
    "index_of_three"
   ]
  },
  {
   "cell_type": "code",
   "execution_count": 170,
   "id": "9bc8eb1a",
   "metadata": {},
   "outputs": [
    {
     "data": {
      "text/plain": [
       "(42, 'one', (1, 'HOHO', 3), ['a', 'b', 'c'], [True, False], 'apple')"
      ]
     },
     "execution_count": 170,
     "metadata": {},
     "output_type": "execute_result"
    }
   ],
   "source": [
    "# Example\n",
    "nested_tuple = (42,'one',(1, 'HOHO', 3), ['a', 'b', 'c'], [True, False],'apple')\n",
    "nested_tuple"
   ]
  },
  {
   "cell_type": "code",
   "execution_count": 171,
   "id": "e17a8969",
   "metadata": {},
   "outputs": [
    {
     "data": {
      "text/plain": [
       "'HOHO'"
      ]
     },
     "execution_count": 171,
     "metadata": {},
     "output_type": "execute_result"
    }
   ],
   "source": [
    "# Accessing Elements in Nested tuple:\n",
    "element = nested_tuple[2][1] # Accessing the element 'HOHO'\n",
    "element"
   ]
  },
  {
   "cell_type": "code",
   "execution_count": 172,
   "id": "de37fce8",
   "metadata": {},
   "outputs": [
    {
     "name": "stdout",
     "output_type": "stream",
     "text": [
      "(11, [222, 33], 44, 55)\n"
     ]
    }
   ],
   "source": [
    "tuple1 = (11, [22, 33], 44, 55)\n",
    "tuple1[1][0] = 222\n",
    "print(tuple1)"
   ]
  },
  {
   "cell_type": "code",
   "execution_count": 173,
   "id": "fd796b49",
   "metadata": {},
   "outputs": [],
   "source": [
    "'''A Mobile store has provided a snapshot of the details of mobile phones sold by them.\n",
    "\n",
    "Brand RAM (in GB) Memory (in GB) Price\n",
    "Apple 4 64 90000\n",
    "Samsung 12 128 60000\n",
    "LG 8 64 40000\n",
    "Apple 8 128 120000\n",
    "\n",
    "Q. Store the storage specifications 128/128/64/128 as an immutable variable.\n",
    "'''\n",
    "tup1=(64,128,64,128)"
   ]
  },
  {
   "cell_type": "code",
   "execution_count": 174,
   "id": "8f11f04b",
   "metadata": {},
   "outputs": [
    {
     "data": {
      "text/plain": [
       "128"
      ]
     },
     "execution_count": 174,
     "metadata": {},
     "output_type": "execute_result"
    }
   ],
   "source": [
    "tup1[1]"
   ]
  },
  {
   "cell_type": "code",
   "execution_count": 175,
   "id": "ad9a3dec",
   "metadata": {},
   "outputs": [
    {
     "ename": "TypeError",
     "evalue": "'tuple' object does not support item assignment",
     "output_type": "error",
     "traceback": [
      "\u001b[1;31m---------------------------------------------------------------------------\u001b[0m",
      "\u001b[1;31mTypeError\u001b[0m                                 Traceback (most recent call last)",
      "Cell \u001b[1;32mIn[175], line 1\u001b[0m\n\u001b[1;32m----> 1\u001b[0m tup1[\u001b[38;5;241m1\u001b[39m]\u001b[38;5;241m=\u001b[39m \u001b[38;5;241m90\u001b[39m\n",
      "\u001b[1;31mTypeError\u001b[0m: 'tuple' object does not support item assignment"
     ]
    }
   ],
   "source": [
    "tup1[1]= 90"
   ]
  },
  {
   "cell_type": "code",
   "execution_count": 176,
   "id": "f4b52c32",
   "metadata": {},
   "outputs": [
    {
     "data": {
      "text/plain": [
       "{'name': 'John', 'age': 25, 'city': 'Greater Noida'}"
      ]
     },
     "execution_count": 176,
     "metadata": {},
     "output_type": "execute_result"
    }
   ],
   "source": [
    "my_d = {'name': 'John', 'age': 25, 'city': 'Greater Noida'}\n",
    "my_d"
   ]
  },
  {
   "cell_type": "code",
   "execution_count": 177,
   "id": "ea972b63",
   "metadata": {},
   "outputs": [
    {
     "name": "stdout",
     "output_type": "stream",
     "text": [
      "{'name': 'John', 'age': 25, 'city': 'Greater Noida'}\n"
     ]
    }
   ],
   "source": [
    "# Using dict() constructor\n",
    "my_d = dict(name='John', age= 25, city ='Greater Noida')\n",
    "print(my_d)"
   ]
  },
  {
   "cell_type": "code",
   "execution_count": 178,
   "id": "ac5ffd2a",
   "metadata": {},
   "outputs": [
    {
     "name": "stdout",
     "output_type": "stream",
     "text": [
      "John\n",
      "25\n"
     ]
    }
   ],
   "source": [
    "# Accessing values\n",
    "name = my_d['name']\n",
    "print(name)\n",
    "age = my_d['age']\n",
    "print(age)"
   ]
  },
  {
   "cell_type": "code",
   "execution_count": 179,
   "id": "afd5bd2b",
   "metadata": {},
   "outputs": [
    {
     "name": "stdout",
     "output_type": "stream",
     "text": [
      "Greater Noida\n",
      "No Country in this dictionary\n"
     ]
    }
   ],
   "source": [
    "# Using get() method\n",
    "city1 = my_d.get('city', 'No Country in this dictionary')\n",
    "print(city1)\n",
    "country1= my_d.get('country', 'No Country in this dictionary')\n",
    "print(country1)"
   ]
  },
  {
   "cell_type": "code",
   "execution_count": 180,
   "id": "ff0a9030",
   "metadata": {},
   "outputs": [
    {
     "data": {
      "text/plain": [
       "{'name': ['John', 'Rahul', 'Shikha'],\n",
       " 'age': [25, 26, 23],\n",
       " 'city': ['Greater Noida', 'Delhi', 'Mumbai']}"
      ]
     },
     "execution_count": 180,
     "metadata": {},
     "output_type": "execute_result"
    }
   ],
   "source": [
    "my_d2 = {'name': ['John','Rahul','Shikha'], 'age': [25,26,23],\n",
    "'city': ['Greater Noida','Delhi','Mumbai']}\n",
    "\n",
    "my_d2"
   ]
  },
  {
   "cell_type": "code",
   "execution_count": 181,
   "id": "4dd64ec4",
   "metadata": {},
   "outputs": [
    {
     "name": "stdout",
     "output_type": "stream",
     "text": [
      "Shikha\n",
      "23\n",
      "Mumbai\n"
     ]
    }
   ],
   "source": [
    "# Accessing values for 2nd index\n",
    "name = my_d2['name'][2]\n",
    "print(name)\n",
    "age = my_d2['age'][2]\n",
    "print(age)\n",
    "city = my_d2['city'][2]\n",
    "print(city)"
   ]
  },
  {
   "cell_type": "code",
   "execution_count": 183,
   "id": "97f5d498",
   "metadata": {},
   "outputs": [],
   "source": [
    "book_info = {'title': 'The Catcher in the Rye',\n",
    "\n",
    "'author': {'name': 'J.D. Salinger','birth_year': 1919,'death_year':\n",
    "\n",
    "2010},\n",
    "\n",
    "'publication_year': 1951,\n",
    "'genre': 'Fiction'\n",
    "}"
   ]
  },
  {
   "cell_type": "code",
   "execution_count": 184,
   "id": "ba4d26de",
   "metadata": {},
   "outputs": [
    {
     "data": {
      "text/plain": [
       "('J.D. Salinger', 1951)"
      ]
     },
     "execution_count": 184,
     "metadata": {},
     "output_type": "execute_result"
    }
   ],
   "source": [
    "book_info['author']['name'],book_info['publication_year']"
   ]
  },
  {
   "cell_type": "code",
   "execution_count": 185,
   "id": "dd4a540b",
   "metadata": {},
   "outputs": [
    {
     "name": "stdout",
     "output_type": "stream",
     "text": [
      "dict_keys(['name', 'age', 'city'])\n",
      "\n",
      "\n",
      "dict_values([['John', 'Rahul', 'Shikha'], [25, 26, 23], ['Greater Noida', 'Delhi', 'Mumbai']])\n",
      "\n",
      "\n",
      "dict_items([('name', ['John', 'Rahul', 'Shikha']), ('age', [25, 26, 23]), ('city', ['Greater Noida', 'Delhi', 'Mumbai'])])\n"
     ]
    }
   ],
   "source": [
    "# Using built-in functions\n",
    "all_keys = my_d2.keys()\n",
    "print(all_keys)\n",
    "print('\\n')\n",
    "all_values = my_d2.values()\n",
    "print(all_values)\n",
    "print('\\n')\n",
    "all_items = my_d2.items()\n",
    "print(all_items)"
   ]
  },
  {
   "cell_type": "code",
   "execution_count": 186,
   "id": "71b3c4ba",
   "metadata": {},
   "outputs": [
    {
     "name": "stdout",
     "output_type": "stream",
     "text": [
      "{'name': 'John', 'age': 25, 'city': 'Greater Noida'}\n",
      "{'name': 'John', 'age': 25, 'city': 'Greater Noida', 'gender': 'Male'}\n"
     ]
    }
   ],
   "source": [
    "# Adding a new key-value pair\n",
    "my_d = {'name': 'John', 'age': 25, 'city': 'Greater Noida'}\n",
    "my_d\n",
    "print(my_d)\n",
    "my_d['gender'] = 'Male'\n",
    "print(my_d)"
   ]
  },
  {
   "cell_type": "code",
   "execution_count": 187,
   "id": "93b62de6",
   "metadata": {},
   "outputs": [
    {
     "name": "stdout",
     "output_type": "stream",
     "text": [
      "{'name': 'John', 'age': 25, 'city': 'Greater Noida', 'gender': 'Male'}\n",
      "{'name': 'John', 'age': 26, 'city': 'Greater Noida', 'gender': 'Male'}\n"
     ]
    }
   ],
   "source": [
    "# Updating an existing value\n",
    "print(my_d)\n",
    "my_d['age'] = 26\n",
    "print(my_d)"
   ]
  },
  {
   "cell_type": "code",
   "execution_count": 188,
   "id": "cc172cad",
   "metadata": {},
   "outputs": [
    {
     "data": {
      "text/plain": [
       "{'name': 'John', 'age': 26, 'gender': 'Male'}"
      ]
     },
     "execution_count": 188,
     "metadata": {},
     "output_type": "execute_result"
    }
   ],
   "source": [
    "# Removing a key-value pair\n",
    "del my_d['city']\n",
    "my_d"
   ]
  },
  {
   "cell_type": "code",
   "execution_count": 189,
   "id": "3c9e4c5f",
   "metadata": {},
   "outputs": [
    {
     "data": {
      "text/plain": [
       "{'name': 'John', 'age': 26}"
      ]
     },
     "execution_count": 189,
     "metadata": {},
     "output_type": "execute_result"
    }
   ],
   "source": [
    "# Using pop() method\n",
    "gender = my_d.pop('gender', 'Not specified')\n",
    "my_d"
   ]
  },
  {
   "cell_type": "code",
   "execution_count": 190,
   "id": "1b0918e7",
   "metadata": {},
   "outputs": [
    {
     "name": "stdout",
     "output_type": "stream",
     "text": [
      "{'name': 'satish', 'age': 27}\n"
     ]
    }
   ],
   "source": [
    "my_d = {'name': 'satish', 'age': 27, 'address': 'guntur'}\n",
    "#remove an arbitarty key/random\n",
    "my_d.popitem()\n",
    "print(my_d)"
   ]
  },
  {
   "cell_type": "code",
   "execution_count": 194,
   "id": "3ca407df",
   "metadata": {},
   "outputs": [
    {
     "name": "stdout",
     "output_type": "stream",
     "text": [
      "name ['John', 'Rahul', 'Shikha']\n",
      "age [25, 26, 23]\n",
      "city ['Greater Noida', 'Delhi', 'Mumbai']\n"
     ]
    }
   ],
   "source": [
    "# Iterating through keys\n",
    "\n",
    "for key in my_d2:\n",
    "    print(key, my_d2[key])"
   ]
  },
  {
   "cell_type": "code",
   "execution_count": 196,
   "id": "dcd9df85",
   "metadata": {},
   "outputs": [
    {
     "name": "stdout",
     "output_type": "stream",
     "text": [
      "name ['John', 'Rahul', 'Shikha']\n",
      "age [25, 26, 23]\n",
      "city ['Greater Noida', 'Delhi', 'Mumbai']\n"
     ]
    }
   ],
   "source": [
    "# Iterating through key-value pairs\n",
    "for key, value in my_d2.items():\n",
    "    print(key, value)"
   ]
  },
  {
   "cell_type": "code",
   "execution_count": 198,
   "id": "e24a2757",
   "metadata": {},
   "outputs": [
    {
     "name": "stdout",
     "output_type": "stream",
     "text": [
      "name ['John', 'Rahul', 'Shikha']\n",
      "age [25, 26, 23]\n",
      "city ['Greater Noida', 'Delhi', 'Mumbai']\n"
     ]
    }
   ],
   "source": [
    "# Iterating through key-value pairs\n",
    "for key, value in my_d2.items():\n",
    "    print(key, value)"
   ]
  },
  {
   "cell_type": "code",
   "execution_count": 199,
   "id": "b3ddb7c9",
   "metadata": {},
   "outputs": [
    {
     "name": "stdout",
     "output_type": "stream",
     "text": [
      "{'name': ['John', 'Rahul', 'Shikha'], 'age': [25, 26, 23], 'city': ['Greater Noida', 'Delhi', 'Mumbai']}\n",
      "3\n"
     ]
    }
   ],
   "source": [
    "# len(): Finding the length of a Dictionary.\n",
    "print(my_d2)\n",
    "length_of_list = len(my_d2)\n",
    "print(length_of_list)"
   ]
  },
  {
   "cell_type": "code",
   "execution_count": 201,
   "id": "16ad40e5",
   "metadata": {},
   "outputs": [
    {
     "name": "stdout",
     "output_type": "stream",
     "text": [
      "[25, 26, 23]\n",
      "[23, 25, 26]\n"
     ]
    }
   ],
   "source": [
    "# sorted(): Sorting elements in a Dictionary.\n",
    "print(my_d2['age'])\n",
    "sorted_values = sorted(my_d2['age'])\n",
    "print(sorted_values)"
   ]
  },
  {
   "cell_type": "code",
   "execution_count": 203,
   "id": "6174b030",
   "metadata": {},
   "outputs": [
    {
     "data": {
      "text/plain": [
       "{'name': ['John', 'Rahul', 'Shikha'],\n",
       " 'age': [25, 26, 23],\n",
       " 'city': ['Greater Noida', 'Delhi', 'Mumbai'],\n",
       " 'hobby': ['Reading', 'Writing', 'Tracking']}"
      ]
     },
     "execution_count": 203,
     "metadata": {},
     "output_type": "execute_result"
    }
   ],
   "source": [
    "# update(): Updates the dictionary with elements from another dictionary or␣\n",
    "#iterable.\n",
    "new_data = {'hobby': ['Reading','Writing','Tracking']}\n",
    "my_d2.update(new_data)\n",
    "my_d2"
   ]
  },
  {
   "cell_type": "code",
   "execution_count": 204,
   "id": "1cfecae0",
   "metadata": {},
   "outputs": [
    {
     "data": {
      "text/plain": [
       "{'Course': None, 'Branch': None}"
      ]
     },
     "execution_count": 204,
     "metadata": {},
     "output_type": "execute_result"
    }
   ],
   "source": [
    "# fromkeys():Create a new dictionary with keys from iterable and values set to␣\n",
    "#value.\n",
    "key_list= ['Course','Branch']\n",
    "new_d= dict.fromkeys(key_list)\n",
    "new_d"
   ]
  },
  {
   "cell_type": "code",
   "execution_count": 205,
   "id": "5a4c508b",
   "metadata": {},
   "outputs": [
    {
     "data": {
      "text/plain": [
       "{'Course': 'to be filled', 'Branch': 'to be filled'}"
      ]
     },
     "execution_count": 205,
     "metadata": {},
     "output_type": "execute_result"
    }
   ],
   "source": [
    "key_list= ['Course','Branch']\n",
    "default_values='to be filled'\n",
    "new_d= dict.fromkeys(key_list,default_values)\n",
    "new_d"
   ]
  },
  {
   "cell_type": "code",
   "execution_count": 209,
   "id": "056c92ff",
   "metadata": {},
   "outputs": [
    {
     "ename": "SyntaxError",
     "evalue": "unterminated string literal (detected at line 3) (3333203051.py, line 3)",
     "output_type": "error",
     "traceback": [
      "\u001b[1;36m  Cell \u001b[1;32mIn[209], line 3\u001b[1;36m\u001b[0m\n\u001b[1;33m    dict_2={'name': ['John', 'Rahul', 'Shikha'], 'age': [25, 26, 23], 'city': ['GreaterNoida', 'Delhi', 'Mumbai'], 'hobby': ['Reading', 'Writing', 'Tracking'], 1:'CHECK THIS!!!!}\u001b[0m\n\u001b[1;37m                                                                                                                                                                  ^\u001b[0m\n\u001b[1;31mSyntaxError\u001b[0m\u001b[1;31m:\u001b[0m unterminated string literal (detected at line 3)\n"
     ]
    }
   ],
   "source": [
    "# Copying a dictionary\n",
    "\n",
    "dict_2={'name': ['John', 'Rahul', 'Shikha'], 'age': [25, 26, 23], 'city': ['GreaterNoida', 'Delhi', 'Mumbai'], 'hobby': ['Reading', 'Writing', 'Tracking'], 1:'CHECK THIS!!!!}\n",
    "copied_dict=my_dict_2\n",
    "copied_dict[1] = 'CHECK THIS!!!!'\n",
    "print(copied_dict)\n",
    "print(my_dict_2)"
   ]
  },
  {
   "cell_type": "code",
   "execution_count": 6,
   "id": "e83a5478",
   "metadata": {},
   "outputs": [
    {
     "name": "stdout",
     "output_type": "stream",
     "text": [
      "Hello my name is John\n"
     ]
    }
   ],
   "source": [
    "class Person:\n",
    "    def __init__(sectionm, name, age):\n",
    "        sectionm.name = name\n",
    "        sectionm.age = age\n",
    "    def myfunc(abc):\n",
    "        print(\"Hello my name is \" + abc.name)\n",
    "p1 = Person(\"John\", 36)\n",
    "\n",
    "p1.myfunc()\n",
    "pass"
   ]
  },
  {
   "cell_type": "code",
   "execution_count": 8,
   "id": "f4b233b9",
   "metadata": {},
   "outputs": [
    {
     "name": "stdout",
     "output_type": "stream",
     "text": [
      "Hello !, my name is  Nikhil\n"
     ]
    }
   ],
   "source": [
    "class Person:\n",
    "    def __init__(self,name):\n",
    "        self.name=name\n",
    "    def say_hi(self):\n",
    "        print(\"Hello !, my name is \",self.name)\n",
    "P=Person('Nikhil')\n",
    "P.say_hi()"
   ]
  },
  {
   "cell_type": "code",
   "execution_count": 10,
   "id": "b96ecc34",
   "metadata": {},
   "outputs": [
    {
     "name": "stdout",
     "output_type": "stream",
     "text": [
      "My name is John and I work in Geek for Geeks.\n"
     ]
    }
   ],
   "source": [
    "class GFG:\n",
    "    def __init__(self,name,company):\n",
    "        self.name=name\n",
    "        self.company=company\n",
    "    def __str__(self):\n",
    "        return f\"My name is {self.name} and I work in {self.company}.\"\n",
    "myobj=GFG(\"John\",\"Geek for Geeks\")\n",
    "print(myobj)"
   ]
  },
  {
   "cell_type": "code",
   "execution_count": 13,
   "id": "1dd666a3",
   "metadata": {},
   "outputs": [
    {
     "name": "stdout",
     "output_type": "stream",
     "text": [
      "brown\n"
     ]
    }
   ],
   "source": [
    "class Dog:\n",
    "    animal='dog'\n",
    "    def __init__(self,breed):\n",
    "        self.breed=breed\n",
    "    def setColor(self,color):\n",
    "        self.color=color\n",
    "    def getColor(self):\n",
    "        return self.color\n",
    "rodger=Dog(\"pug\") \n",
    "rodger.setColor(\"brown\")\n",
    "print(rodger.getColor())"
   ]
  },
  {
   "cell_type": "code",
   "execution_count": 15,
   "id": "e0cbc673",
   "metadata": {},
   "outputs": [
    {
     "name": "stdout",
     "output_type": "stream",
     "text": [
      "Id:10 \n",
      "Name:John\n"
     ]
    }
   ],
   "source": [
    "class Employee:\n",
    "    id=10\n",
    "    name=\"John\"\n",
    "    def display(self):\n",
    "        print(\"Id:%d \\nName:%s\"%(self.id,self.name))\n",
    "emp=Employee()\n",
    "emp.display()"
   ]
  },
  {
   "cell_type": "code",
   "execution_count": 17,
   "id": "f61484e0",
   "metadata": {},
   "outputs": [],
   "source": [
    "del emp\n"
   ]
  },
  {
   "cell_type": "code",
   "execution_count": 18,
   "id": "4655ddcf",
   "metadata": {},
   "outputs": [
    {
     "ename": "NameError",
     "evalue": "name 'emp' is not defined",
     "output_type": "error",
     "traceback": [
      "\u001b[1;31m---------------------------------------------------------------------------\u001b[0m",
      "\u001b[1;31mNameError\u001b[0m                                 Traceback (most recent call last)",
      "Cell \u001b[1;32mIn[18], line 1\u001b[0m\n\u001b[1;32m----> 1\u001b[0m emp\u001b[38;5;241m.\u001b[39mdisplay()\n",
      "\u001b[1;31mNameError\u001b[0m: name 'emp' is not defined"
     ]
    }
   ],
   "source": [
    "emp.display()"
   ]
  },
  {
   "cell_type": "code",
   "execution_count": 19,
   "id": "8d4a8d72",
   "metadata": {},
   "outputs": [
    {
     "name": "stdout",
     "output_type": "stream",
     "text": [
      "Satyam 102\n"
     ]
    }
   ],
   "source": [
    "class Person(object):\n",
    "    def __init__(self,name,id):\n",
    "        self.name=name\n",
    "        self.id=id\n",
    "    def Display(self):\n",
    "        print(self.name,self.id)\n",
    "emp=Person(\"Satyam\",102)\n",
    "emp.Display()"
   ]
  },
  {
   "cell_type": "code",
   "execution_count": 21,
   "id": "4b6c41ae",
   "metadata": {},
   "outputs": [
    {
     "name": "stdout",
     "output_type": "stream",
     "text": [
      "Mayank 103\n",
      "Emp class called\n"
     ]
    }
   ],
   "source": [
    "class Emp(Person):\n",
    "    def Print(self):\n",
    "        print(\"Emp class called\")\n",
    "Emp_details=Emp(\"Mayank\",103)\n",
    "Emp_details.Display()\n",
    "Emp_details.Print()"
   ]
  },
  {
   "cell_type": "code",
   "execution_count": 22,
   "id": "1a8c2413",
   "metadata": {},
   "outputs": [
    {
     "name": "stdout",
     "output_type": "stream",
     "text": [
      "Geek1 False\n",
      "Geek2 True\n"
     ]
    }
   ],
   "source": [
    "class Person(object):\n",
    "    def __init__(self,name):\n",
    "        self.name=name\n",
    "    def getName(self):\n",
    "        return self.name\n",
    "    def isEmployee(self):\n",
    "        return False\n",
    "\n",
    "class Employee(Person):\n",
    "    def isEmployee(self):\n",
    "        return True\n",
    "\n",
    "emp=Person(\"Geek1\")\n",
    "print(emp.getName(),emp.isEmployee())\n",
    "emp=Employee(\"Geek2\")\n",
    "print(emp.getName(),emp.isEmployee())"
   ]
  },
  {
   "cell_type": "code",
   "execution_count": null,
   "id": "268a20cb",
   "metadata": {},
   "outputs": [],
   "source": []
  }
 ],
 "metadata": {
  "kernelspec": {
   "display_name": "Python 3 (ipykernel)",
   "language": "python",
   "name": "python3"
  },
  "language_info": {
   "codemirror_mode": {
    "name": "ipython",
    "version": 3
   },
   "file_extension": ".py",
   "mimetype": "text/x-python",
   "name": "python",
   "nbconvert_exporter": "python",
   "pygments_lexer": "ipython3",
   "version": "3.11.5"
  }
 },
 "nbformat": 4,
 "nbformat_minor": 5
}
