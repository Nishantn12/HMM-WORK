{
 "cells": [
  {
   "cell_type": "code",
   "execution_count": 2,
   "id": "f8513d15",
   "metadata": {},
   "outputs": [
    {
     "name": "stdout",
     "output_type": "stream",
     "text": [
      "Enter the price:3000\n",
      "Enter ur budget:5000\n"
     ]
    },
    {
     "data": {
      "text/plain": [
       "True"
      ]
     },
     "execution_count": 2,
     "metadata": {},
     "output_type": "execute_result"
    }
   ],
   "source": [
    "def inbudget(price,budget):\n",
    "    return(price<=budget)\n",
    "price=int(input(\"Enter the price:\"))\n",
    "budget=int(input(\"Enter ur budget:\"))\n",
    "inbudget(price,budget)\n"
   ]
  },
  {
   "cell_type": "code",
   "execution_count": 4,
   "id": "98fae9df",
   "metadata": {},
   "outputs": [
    {
     "name": "stdout",
     "output_type": "stream",
     "text": [
      "=========Storages================\n",
      "Enter ur storage needs(32/64/128/256)GBS:32\n",
      "Price: Rs 15000\n"
     ]
    }
   ],
   "source": [
    "print(\"=========Storages================\")\n",
    "storage=int(input(\"Enter ur storage needs(32/64/128/256)GBS:\"))\n",
    "if (storage==32):\n",
    "    print(\"Price: Rs 15000\")\n",
    "elif(storage==64):\n",
    "    print(\"Price: Rs 20000\")\n",
    "elif(storage==128):\n",
    "    print(\"Price: Rs 30000\")\n",
    "elif (storage==256):\n",
    "    print(\"Price: Rs 40000\")\n",
    "else:\n",
    "    print(\"Storage not valid\")"
   ]
  },
  {
   "cell_type": "code",
   "execution_count": 5,
   "id": "db72464d",
   "metadata": {},
   "outputs": [
    {
     "name": "stdout",
     "output_type": "stream",
     "text": [
      "Enter ur First round Score:90\n",
      "Eligible for second round\n",
      "Enter ur Second round Score:98\n",
      "Eligible for Third round\n",
      "Enter ur Third round Score:99\n",
      "Passed\n"
     ]
    }
   ],
   "source": [
    "FScore=int(input(\"Enter ur First round Score:\"))\n",
    "if (FScore>=80):\n",
    "    print(\"Eligible for second round\")\n",
    "    SScore=int(input(\"Enter ur Second round Score:\"))\n",
    "    if (SScore>=70):\n",
    "        print(\"Eligible for Third round\")\n",
    "        TScore = int(input(\"Enter ur Third round Score:\"))\n",
    "        if (TScore>=60):\n",
    "            print(\"Passed\")\n",
    "        else:\n",
    "            print(\"Failed\")\n",
    "    else :\n",
    "        print(\"Not eligible for third round\")\n",
    "else:\n",
    "    print(\"Not eligible for second round\")"
   ]
  },
  {
   "cell_type": "code",
   "execution_count": 7,
   "id": "212040a5",
   "metadata": {},
   "outputs": [
    {
     "name": "stdout",
     "output_type": "stream",
     "text": [
      "Enter ur marks:99\n",
      "Assigned to Group 1\n"
     ]
    }
   ],
   "source": [
    "marks=int(input(\"Enter ur marks:\"))\n",
    "if(marks>=80):\n",
    "    print(\"Assigned to Group 1\")\n",
    "elif(marks<=80 & marks>=60):\n",
    "    print(\"Assigned to Group 2\")\n",
    "else:\n",
    "    print(\"Assigned to Group 3\")"
   ]
  },
  {
   "cell_type": "code",
   "execution_count": 9,
   "id": "e73f413d",
   "metadata": {},
   "outputs": [
    {
     "name": "stdout",
     "output_type": "stream",
     "text": [
      "Enter username:admin\n",
      "Enter password:12345\n",
      "login successful\n"
     ]
    }
   ],
   "source": [
    "username=input(\"Enter username:\")\n",
    "if (username==\"admin\"):\n",
    "    password=input(\"Enter password:\")\n",
    "    if (password==\"12345\"):\n",
    "        print(\"login successful\")\n",
    "    else:\n",
    "        print(\"Incorrect password\")\n",
    "else:\n",
    "    print(\"Incorrect username\")"
   ]
  },
  {
   "cell_type": "code",
   "execution_count": 12,
   "id": "5ad99b38",
   "metadata": {},
   "outputs": [
    {
     "name": "stdout",
     "output_type": "stream",
     "text": [
      "5 % Discount = 38000.0\n",
      "10 % Discount = 36000.0\n",
      "15 % Discount = 34000.0\n",
      "20 % Discount = 32000.0\n"
     ]
    }
   ],
   "source": [
    "price=40000\n",
    "list=[5,10,15,20]\n",
    "for i in list:\n",
    "    print(i,\"% Discount =\",price-(i*price/100) )"
   ]
  },
  {
   "cell_type": "code",
   "execution_count": 16,
   "id": "bdebbbe1",
   "metadata": {},
   "outputs": [
    {
     "name": "stdout",
     "output_type": "stream",
     "text": [
      "5 % Discount =  38000.0\n",
      "10 % Discount =  36000.0\n",
      "15 % Discount =  34000.0\n",
      "20 % Discount =  32000.0\n"
     ]
    }
   ],
   "source": [
    "price=40000\n",
    "list=[5,10,15,20]\n",
    "print(5,\"% Discount = \",price-(5*price/100))\n",
    "print(10,\"% Discount = \",price-(10*price/100))     \n",
    "print(15,\"% Discount = \",price-(15*price/100))  \n",
    "print(20,\"% Discount = \",price-(20*price/100))      "
   ]
  },
  {
   "cell_type": "code",
   "execution_count": 8,
   "id": "d81520d8",
   "metadata": {},
   "outputs": [
    {
     "name": "stdout",
     "output_type": "stream",
     "text": [
      "5 % Discount = 38000.0\n",
      "10 % Discount = 36000.0\n",
      "15 % Discount = 34000.0\n",
      "20 % Discount = 32000.0\n"
     ]
    }
   ],
   "source": [
    "price=40000\n",
    "list=[5,10,15,20]\n",
    "index=0\n",
    "while(index < len(list)):\n",
    "    print(list[index],\"% Discount =\",price-(list[index]*price/100) )\n",
    "    index+=1"
   ]
  },
  {
   "cell_type": "markdown",
   "id": "c9d20ae4",
   "metadata": {},
   "source": [
    " # 6 March"
   ]
  },
  {
   "cell_type": "code",
   "execution_count": 3,
   "id": "75695643",
   "metadata": {},
   "outputs": [
    {
     "name": "stdout",
     "output_type": "stream",
     "text": [
      "Enter numbers\n",
      "10 20 30 40 50 60 70 80 90 100\n",
      "60\n"
     ]
    }
   ],
   "source": [
    "nums=list(map(int,input(\"Enter numbers\\n\").split()))\n",
    "for i in nums:\n",
    "    if i>50:\n",
    "        print(i)\n",
    "        break"
   ]
  },
  {
   "cell_type": "code",
   "execution_count": 2,
   "id": "b83cb542",
   "metadata": {},
   "outputs": [
    {
     "name": "stdout",
     "output_type": "stream",
     "text": [
      "Enter your username: user1\n",
      "Enter your password: pass\n",
      "Incorrect password. You have 2 attempts left.\n",
      "Enter your username: user1\n",
      "Enter your password: password123\n",
      "Login successful!\n"
     ]
    }
   ],
   "source": [
    "#Password Checker\n",
    "correct_username = \"user1\"\n",
    "correct_password = \"password123\"\n",
    "attempts = 0\n",
    "max_attempts = 3\n",
    "\n",
    "while attempts < max_attempts:\n",
    "    username = input(\"Enter your username: \")\n",
    "    if username != correct_username:\n",
    "        print(\"Incorrect username.\")\n",
    "        attempts += 1\n",
    "    else:\n",
    "        entered_password = input(\"Enter your password: \")\n",
    "        if entered_password == correct_password:\n",
    "            print(\"Login successful!\")\n",
    "            break\n",
    "        else:\n",
    "            attempts += 1\n",
    "            print(f\"Incorrect password. You have {max_attempts - attempts} attempts left.\")\n",
    "\n",
    "if attempts == max_attempts:\n",
    "    print(f\"{username} has been blocked due to too many incorrect attempts.\")"
   ]
  },
  {
   "cell_type": "code",
   "execution_count": 4,
   "id": "9a2a8c5c",
   "metadata": {},
   "outputs": [
    {
     "name": "stdout",
     "output_type": "stream",
     "text": [
      "Enter numbers\n",
      "1 2 3 4 5\n",
      "1 2 3 4 5 "
     ]
    }
   ],
   "source": [
    "nums=list(map(int,input(\"Enter numbers\\n\").split()))\n",
    "for i in nums:\n",
    "    print(i,end=\" \")"
   ]
  },
  {
   "cell_type": "code",
   "execution_count": 6,
   "id": "33000a7b",
   "metadata": {},
   "outputs": [
    {
     "name": "stdout",
     "output_type": "stream",
     "text": [
      "Enter numbers\n",
      "1 2 3 -1 -2\n",
      "-1 -2 "
     ]
    }
   ],
   "source": [
    "nums=list(map(int,input(\"Enter numbers\\n\").split()))\n",
    "for i in nums:\n",
    "    if (i<=0):\n",
    "        print(i,end=\" \")"
   ]
  },
  {
   "cell_type": "code",
   "execution_count": 1,
   "id": "71f5ea8a",
   "metadata": {},
   "outputs": [
    {
     "name": "stdout",
     "output_type": "stream",
     "text": [
      "Enter numbers\n",
      "1 2 3 -1 2 4\n",
      "1 2 3 "
     ]
    }
   ],
   "source": [
    "nums=list(map(int,input(\"Enter numbers\\n\").split()))\n",
    "for i in nums:\n",
    "    if (i<=0): \n",
    "        break\n",
    "    print(i,end=\" \")"
   ]
  },
  {
   "cell_type": "code",
   "execution_count": 3,
   "id": "2d5d068d",
   "metadata": {},
   "outputs": [
    {
     "name": "stdout",
     "output_type": "stream",
     "text": [
      "Enter numbers\n",
      "1 2 3 -1 2 4\n",
      "SUM: 12\n"
     ]
    }
   ],
   "source": [
    "nums=list(map(int,input(\"Enter numbers\\n\").split()))\n",
    "sum=0\n",
    "for i in nums:\n",
    "    if (i>=0):\n",
    "        sum+=i\n",
    "print(\"SUM:\",sum)        "
   ]
  },
  {
   "cell_type": "code",
   "execution_count": 4,
   "id": "f8218d73",
   "metadata": {
    "scrolled": true
   },
   "outputs": [
    {
     "name": "stdout",
     "output_type": "stream",
     "text": [
      "Enter numbers\n",
      "2 3 4 5 6 7 8 9 10\n",
      "SUM: 30\n"
     ]
    }
   ],
   "source": [
    "nums=list(map(int,input(\"Enter numbers\\n\").split()))\n",
    "sum=0\n",
    "for i in nums:\n",
    "    if (i%2==0):\n",
    "        sum+=i\n",
    "print(\"SUM of even numbers:\",sum)  "
   ]
  },
  {
   "cell_type": "code",
   "execution_count": 7,
   "id": "0b16b07d",
   "metadata": {},
   "outputs": [
    {
     "name": "stdout",
     "output_type": "stream",
     "text": [
      "Enter numbers\n",
      "1 2 3 -1 2 4\n",
      "1 2 3 2 4 "
     ]
    }
   ],
   "source": [
    "nums=list(map(int,input(\"Enter numbers\\n\").split()))\n",
    "for i in nums:\n",
    "    if (i>=0):     \n",
    "        print(i,end=\" \")"
   ]
  },
  {
   "cell_type": "code",
   "execution_count": 3,
   "id": "076c973a",
   "metadata": {},
   "outputs": [
    {
     "name": "stdout",
     "output_type": "stream",
     "text": [
      "Enter alphabets\n",
      "a b c d e f g h i j k l m n o p\n",
      "No. of vowels used: 4\n"
     ]
    }
   ],
   "source": [
    "alphabets = input(\"Enter alphabets\\n\")\n",
    "sum = 0\n",
    "for char in alphabets:\n",
    "    if char.lower() in ['a', 'e', 'i', 'o', 'u']:\n",
    "        sum += 1\n",
    "print(\"No. of vowels used:\", sum)"
   ]
  },
  {
   "cell_type": "code",
   "execution_count": 4,
   "id": "a52f4da3",
   "metadata": {},
   "outputs": [
    {
     "name": "stdout",
     "output_type": "stream",
     "text": [
      "Enter a string: a b c d e f g h i j k l m n o p\n",
      "Reversed string: p o n m l k j i h g f e d c b a\n"
     ]
    }
   ],
   "source": [
    "string = input(\"Enter a string: \")\n",
    "print(\"Reversed string:\", string[::-1])"
   ]
  },
  {
   "cell_type": "code",
   "execution_count": 6,
   "id": "883506e3",
   "metadata": {},
   "outputs": [
    {
     "name": "stdout",
     "output_type": "stream",
     "text": [
      "Enter numbers\n",
      "1 2 3 4 5 6 7 8 9 10\n",
      "2 4 6 8 10 "
     ]
    }
   ],
   "source": [
    "nums=list(map(int,input(\"Enter numbers\\n\").split()))\n",
    "for i in nums:\n",
    "    if (i%2==0):\n",
    "        print(i,end=\" \")"
   ]
  },
  {
   "cell_type": "code",
   "execution_count": null,
   "id": "3253f7ba",
   "metadata": {},
   "outputs": [],
   "source": []
  }
 ],
 "metadata": {
  "kernelspec": {
   "display_name": "Python 3 (ipykernel)",
   "language": "python",
   "name": "python3"
  },
  "language_info": {
   "codemirror_mode": {
    "name": "ipython",
    "version": 3
   },
   "file_extension": ".py",
   "mimetype": "text/x-python",
   "name": "python",
   "nbconvert_exporter": "python",
   "pygments_lexer": "ipython3",
   "version": "3.11.5"
  }
 },
 "nbformat": 4,
 "nbformat_minor": 5
}
